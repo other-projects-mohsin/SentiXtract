{
 "cells": [
  {
   "cell_type": "code",
   "execution_count": 1,
   "metadata": {},
   "outputs": [
    {
     "name": "stdout",
     "output_type": "stream",
     "text": [
      "Collecting en-core-web-sm==3.7.1\n",
      "  Using cached https://github.com/explosion/spacy-models/releases/download/en_core_web_sm-3.7.1/en_core_web_sm-3.7.1-py3-none-any.whl (12.8 MB)\n",
      "Requirement already satisfied: spacy<3.8.0,>=3.7.2 in c:\\users\\mohsi\\onedrive\\desktop\\aspect-based-sentiment-extraction\\absa\\lib\\site-packages (from en-core-web-sm==3.7.1) (3.7.5)\n",
      "Requirement already satisfied: thinc<8.3.0,>=8.2.2 in c:\\users\\mohsi\\onedrive\\desktop\\aspect-based-sentiment-extraction\\absa\\lib\\site-packages (from spacy<3.8.0,>=3.7.2->en-core-web-sm==3.7.1) (8.2.5)\n",
      "Requirement already satisfied: spacy-loggers<2.0.0,>=1.0.0 in c:\\users\\mohsi\\onedrive\\desktop\\aspect-based-sentiment-extraction\\absa\\lib\\site-packages (from spacy<3.8.0,>=3.7.2->en-core-web-sm==3.7.1) (1.0.5)\n",
      "Requirement already satisfied: tqdm<5.0.0,>=4.38.0 in c:\\users\\mohsi\\onedrive\\desktop\\aspect-based-sentiment-extraction\\absa\\lib\\site-packages (from spacy<3.8.0,>=3.7.2->en-core-web-sm==3.7.1) (4.66.4)\n",
      "Requirement already satisfied: spacy-legacy<3.1.0,>=3.0.11 in c:\\users\\mohsi\\onedrive\\desktop\\aspect-based-sentiment-extraction\\absa\\lib\\site-packages (from spacy<3.8.0,>=3.7.2->en-core-web-sm==3.7.1) (3.0.12)\n",
      "Requirement already satisfied: langcodes<4.0.0,>=3.2.0 in c:\\users\\mohsi\\onedrive\\desktop\\aspect-based-sentiment-extraction\\absa\\lib\\site-packages (from spacy<3.8.0,>=3.7.2->en-core-web-sm==3.7.1) (3.4.0)\n",
      "Requirement already satisfied: murmurhash<1.1.0,>=0.28.0 in c:\\users\\mohsi\\onedrive\\desktop\\aspect-based-sentiment-extraction\\absa\\lib\\site-packages (from spacy<3.8.0,>=3.7.2->en-core-web-sm==3.7.1) (1.0.10)\n",
      "Requirement already satisfied: numpy>=1.19.0 in c:\\users\\mohsi\\onedrive\\desktop\\aspect-based-sentiment-extraction\\absa\\lib\\site-packages (from spacy<3.8.0,>=3.7.2->en-core-web-sm==3.7.1) (1.26.3)\n",
      "Requirement already satisfied: preshed<3.1.0,>=3.0.2 in c:\\users\\mohsi\\onedrive\\desktop\\aspect-based-sentiment-extraction\\absa\\lib\\site-packages (from spacy<3.8.0,>=3.7.2->en-core-web-sm==3.7.1) (3.0.9)\n",
      "Requirement already satisfied: jinja2 in c:\\users\\mohsi\\onedrive\\desktop\\aspect-based-sentiment-extraction\\absa\\lib\\site-packages (from spacy<3.8.0,>=3.7.2->en-core-web-sm==3.7.1) (3.1.3)\n",
      "Requirement already satisfied: wasabi<1.2.0,>=0.9.1 in c:\\users\\mohsi\\onedrive\\desktop\\aspect-based-sentiment-extraction\\absa\\lib\\site-packages (from spacy<3.8.0,>=3.7.2->en-core-web-sm==3.7.1) (1.1.3)\n",
      "Requirement already satisfied: typer<1.0.0,>=0.3.0 in c:\\users\\mohsi\\onedrive\\desktop\\aspect-based-sentiment-extraction\\absa\\lib\\site-packages (from spacy<3.8.0,>=3.7.2->en-core-web-sm==3.7.1) (0.12.3)\n",
      "Requirement already satisfied: cymem<2.1.0,>=2.0.2 in c:\\users\\mohsi\\onedrive\\desktop\\aspect-based-sentiment-extraction\\absa\\lib\\site-packages (from spacy<3.8.0,>=3.7.2->en-core-web-sm==3.7.1) (2.0.8)\n",
      "Requirement already satisfied: weasel<0.5.0,>=0.1.0 in c:\\users\\mohsi\\onedrive\\desktop\\aspect-based-sentiment-extraction\\absa\\lib\\site-packages (from spacy<3.8.0,>=3.7.2->en-core-web-sm==3.7.1) (0.4.1)\n",
      "Requirement already satisfied: catalogue<2.1.0,>=2.0.6 in c:\\users\\mohsi\\onedrive\\desktop\\aspect-based-sentiment-extraction\\absa\\lib\\site-packages (from spacy<3.8.0,>=3.7.2->en-core-web-sm==3.7.1) (2.0.10)\n",
      "Requirement already satisfied: packaging>=20.0 in c:\\users\\mohsi\\onedrive\\desktop\\aspect-based-sentiment-extraction\\absa\\lib\\site-packages (from spacy<3.8.0,>=3.7.2->en-core-web-sm==3.7.1) (24.1)\n",
      "Requirement already satisfied: pydantic!=1.8,!=1.8.1,<3.0.0,>=1.7.4 in c:\\users\\mohsi\\onedrive\\desktop\\aspect-based-sentiment-extraction\\absa\\lib\\site-packages (from spacy<3.8.0,>=3.7.2->en-core-web-sm==3.7.1) (2.7.4)\n",
      "Requirement already satisfied: requests<3.0.0,>=2.13.0 in c:\\users\\mohsi\\onedrive\\desktop\\aspect-based-sentiment-extraction\\absa\\lib\\site-packages (from spacy<3.8.0,>=3.7.2->en-core-web-sm==3.7.1) (2.32.3)\n",
      "Requirement already satisfied: srsly<3.0.0,>=2.4.3 in c:\\users\\mohsi\\onedrive\\desktop\\aspect-based-sentiment-extraction\\absa\\lib\\site-packages (from spacy<3.8.0,>=3.7.2->en-core-web-sm==3.7.1) (2.4.8)\n",
      "Requirement already satisfied: setuptools in c:\\users\\mohsi\\onedrive\\desktop\\aspect-based-sentiment-extraction\\absa\\lib\\site-packages (from spacy<3.8.0,>=3.7.2->en-core-web-sm==3.7.1) (65.5.0)\n",
      "Requirement already satisfied: language-data>=1.2 in c:\\users\\mohsi\\onedrive\\desktop\\aspect-based-sentiment-extraction\\absa\\lib\\site-packages (from langcodes<4.0.0,>=3.2.0->spacy<3.8.0,>=3.7.2->en-core-web-sm==3.7.1) (1.2.0)\n",
      "Requirement already satisfied: annotated-types>=0.4.0 in c:\\users\\mohsi\\onedrive\\desktop\\aspect-based-sentiment-extraction\\absa\\lib\\site-packages (from pydantic!=1.8,!=1.8.1,<3.0.0,>=1.7.4->spacy<3.8.0,>=3.7.2->en-core-web-sm==3.7.1) (0.7.0)\n",
      "Requirement already satisfied: typing-extensions>=4.6.1 in c:\\users\\mohsi\\onedrive\\desktop\\aspect-based-sentiment-extraction\\absa\\lib\\site-packages (from pydantic!=1.8,!=1.8.1,<3.0.0,>=1.7.4->spacy<3.8.0,>=3.7.2->en-core-web-sm==3.7.1) (4.9.0)\n",
      "Requirement already satisfied: pydantic-core==2.18.4 in c:\\users\\mohsi\\onedrive\\desktop\\aspect-based-sentiment-extraction\\absa\\lib\\site-packages (from pydantic!=1.8,!=1.8.1,<3.0.0,>=1.7.4->spacy<3.8.0,>=3.7.2->en-core-web-sm==3.7.1) (2.18.4)\n",
      "Requirement already satisfied: urllib3<3,>=1.21.1 in c:\\users\\mohsi\\onedrive\\desktop\\aspect-based-sentiment-extraction\\absa\\lib\\site-packages (from requests<3.0.0,>=2.13.0->spacy<3.8.0,>=3.7.2->en-core-web-sm==3.7.1) (2.2.2)\n",
      "Requirement already satisfied: certifi>=2017.4.17 in c:\\users\\mohsi\\onedrive\\desktop\\aspect-based-sentiment-extraction\\absa\\lib\\site-packages (from requests<3.0.0,>=2.13.0->spacy<3.8.0,>=3.7.2->en-core-web-sm==3.7.1) (2024.6.2)\n",
      "Requirement already satisfied: idna<4,>=2.5 in c:\\users\\mohsi\\onedrive\\desktop\\aspect-based-sentiment-extraction\\absa\\lib\\site-packages (from requests<3.0.0,>=2.13.0->spacy<3.8.0,>=3.7.2->en-core-web-sm==3.7.1) (3.7)\n",
      "Requirement already satisfied: charset-normalizer<4,>=2 in c:\\users\\mohsi\\onedrive\\desktop\\aspect-based-sentiment-extraction\\absa\\lib\\site-packages (from requests<3.0.0,>=2.13.0->spacy<3.8.0,>=3.7.2->en-core-web-sm==3.7.1) (3.3.2)\n",
      "Requirement already satisfied: blis<0.8.0,>=0.7.8 in c:\\users\\mohsi\\onedrive\\desktop\\aspect-based-sentiment-extraction\\absa\\lib\\site-packages (from thinc<8.3.0,>=8.2.2->spacy<3.8.0,>=3.7.2->en-core-web-sm==3.7.1) (0.7.11)\n",
      "Requirement already satisfied: confection<1.0.0,>=0.0.1 in c:\\users\\mohsi\\onedrive\\desktop\\aspect-based-sentiment-extraction\\absa\\lib\\site-packages (from thinc<8.3.0,>=8.2.2->spacy<3.8.0,>=3.7.2->en-core-web-sm==3.7.1) (0.1.5)\n",
      "Requirement already satisfied: colorama in c:\\users\\mohsi\\onedrive\\desktop\\aspect-based-sentiment-extraction\\absa\\lib\\site-packages (from tqdm<5.0.0,>=4.38.0->spacy<3.8.0,>=3.7.2->en-core-web-sm==3.7.1) (0.4.6)\n",
      "Requirement already satisfied: rich>=10.11.0 in c:\\users\\mohsi\\onedrive\\desktop\\aspect-based-sentiment-extraction\\absa\\lib\\site-packages (from typer<1.0.0,>=0.3.0->spacy<3.8.0,>=3.7.2->en-core-web-sm==3.7.1) (13.7.1)\n",
      "Requirement already satisfied: shellingham>=1.3.0 in c:\\users\\mohsi\\onedrive\\desktop\\aspect-based-sentiment-extraction\\absa\\lib\\site-packages (from typer<1.0.0,>=0.3.0->spacy<3.8.0,>=3.7.2->en-core-web-sm==3.7.1) (1.5.4)\n",
      "Requirement already satisfied: click>=8.0.0 in c:\\users\\mohsi\\onedrive\\desktop\\aspect-based-sentiment-extraction\\absa\\lib\\site-packages (from typer<1.0.0,>=0.3.0->spacy<3.8.0,>=3.7.2->en-core-web-sm==3.7.1) (8.1.7)\n",
      "Requirement already satisfied: smart-open<8.0.0,>=5.2.1 in c:\\users\\mohsi\\onedrive\\desktop\\aspect-based-sentiment-extraction\\absa\\lib\\site-packages (from weasel<0.5.0,>=0.1.0->spacy<3.8.0,>=3.7.2->en-core-web-sm==3.7.1) (7.0.4)\n",
      "Requirement already satisfied: cloudpathlib<1.0.0,>=0.7.0 in c:\\users\\mohsi\\onedrive\\desktop\\aspect-based-sentiment-extraction\\absa\\lib\\site-packages (from weasel<0.5.0,>=0.1.0->spacy<3.8.0,>=3.7.2->en-core-web-sm==3.7.1) (0.18.1)\n",
      "Requirement already satisfied: MarkupSafe>=2.0 in c:\\users\\mohsi\\onedrive\\desktop\\aspect-based-sentiment-extraction\\absa\\lib\\site-packages (from jinja2->spacy<3.8.0,>=3.7.2->en-core-web-sm==3.7.1) (2.1.5)\n",
      "Requirement already satisfied: marisa-trie>=0.7.7 in c:\\users\\mohsi\\onedrive\\desktop\\aspect-based-sentiment-extraction\\absa\\lib\\site-packages (from language-data>=1.2->langcodes<4.0.0,>=3.2.0->spacy<3.8.0,>=3.7.2->en-core-web-sm==3.7.1) (1.2.0)\n",
      "Requirement already satisfied: markdown-it-py>=2.2.0 in c:\\users\\mohsi\\onedrive\\desktop\\aspect-based-sentiment-extraction\\absa\\lib\\site-packages (from rich>=10.11.0->typer<1.0.0,>=0.3.0->spacy<3.8.0,>=3.7.2->en-core-web-sm==3.7.1) (3.0.0)\n",
      "Requirement already satisfied: pygments<3.0.0,>=2.13.0 in c:\\users\\mohsi\\onedrive\\desktop\\aspect-based-sentiment-extraction\\absa\\lib\\site-packages (from rich>=10.11.0->typer<1.0.0,>=0.3.0->spacy<3.8.0,>=3.7.2->en-core-web-sm==3.7.1) (2.18.0)\n",
      "Requirement already satisfied: wrapt in c:\\users\\mohsi\\onedrive\\desktop\\aspect-based-sentiment-extraction\\absa\\lib\\site-packages (from smart-open<8.0.0,>=5.2.1->weasel<0.5.0,>=0.1.0->spacy<3.8.0,>=3.7.2->en-core-web-sm==3.7.1) (1.16.0)\n",
      "Requirement already satisfied: mdurl~=0.1 in c:\\users\\mohsi\\onedrive\\desktop\\aspect-based-sentiment-extraction\\absa\\lib\\site-packages (from markdown-it-py>=2.2.0->rich>=10.11.0->typer<1.0.0,>=0.3.0->spacy<3.8.0,>=3.7.2->en-core-web-sm==3.7.1) (0.1.2)\n",
      "\u001b[38;5;2m✔ Download and installation successful\u001b[0m\n",
      "You can now load the package via spacy.load('en_core_web_sm')\n"
     ]
    },
    {
     "name": "stderr",
     "output_type": "stream",
     "text": [
      "\n",
      "[notice] A new release of pip available: 22.3.1 -> 24.1.1\n",
      "[notice] To update, run: python.exe -m pip install --upgrade pip\n"
     ]
    }
   ],
   "source": [
    "!python -m spacy download en_core_web_sm"
   ]
  },
  {
   "cell_type": "code",
   "execution_count": 2,
   "metadata": {
    "id": "653QtrvIleqY"
   },
   "outputs": [
    {
     "name": "stderr",
     "output_type": "stream",
     "text": [
      "c:\\Users\\mohsi\\OneDrive\\Desktop\\Aspect-Based-Sentiment-Extraction\\absa\\lib\\site-packages\\tqdm\\auto.py:21: TqdmWarning: IProgress not found. Please update jupyter and ipywidgets. See https://ipywidgets.readthedocs.io/en/stable/user_install.html\n",
      "  from .autonotebook import tqdm as notebook_tqdm\n"
     ]
    }
   ],
   "source": [
    "# model_requirements:\n",
    "import torch\n",
    "import torchvision\n",
    "import torch.nn as nn\n",
    "import torch.optim as optim\n",
    "import torch.nn.functional as F\n",
    "from torch.utils.data import Dataset, DataLoader\n",
    "import transformers as tr\n",
    "\n",
    "from sklearn import model_selection\n",
    "from sklearn.model_selection import train_test_split\n",
    "from sklearn.metrics import confusion_matrix, classification_report\n",
    "\n",
    "# math_and_basic_requirements:\n",
    "import numpy as np\n",
    "from collections import defaultdict\n",
    "from collections import  Counter\n",
    "\n",
    "# analytic_requirements:\n",
    "import pandas as pd\n",
    "import matplotlib.pyplot as plt\n",
    "import seaborn as sns\n",
    "plt.style.use('ggplot')\n",
    "%matplotlib inline\n",
    "\n",
    "# language_requirements:\n",
    "import re\n",
    "import string\n",
    "import spacy\n",
    "\n",
    "# misc:\n",
    "import warnings\n",
    "warnings.filterwarnings('ignore')\n",
    "import tqdm as tqdm\n",
    "import os\n",
    "from textwrap import wrap"
   ]
  },
  {
   "cell_type": "code",
   "execution_count": 3,
   "metadata": {
    "id": "bMkFme82gG2c"
   },
   "outputs": [],
   "source": [
    "nlp=spacy.load('en_core_web_sm')"
   ]
  },
  {
   "cell_type": "code",
   "execution_count": 4,
   "metadata": {},
   "outputs": [
    {
     "data": {
      "text/plain": [
       "'c:\\\\Users\\\\mohsi\\\\OneDrive\\\\Desktop\\\\Aspect-Based-Sentiment-Extraction\\\\notebooks'"
      ]
     },
     "execution_count": 4,
     "metadata": {},
     "output_type": "execute_result"
    }
   ],
   "source": [
    "os.getcwd()"
   ]
  },
  {
   "cell_type": "code",
   "execution_count": 5,
   "metadata": {},
   "outputs": [],
   "source": [
    "path = os.getcwd()[:-10]"
   ]
  },
  {
   "cell_type": "code",
   "execution_count": 6,
   "metadata": {},
   "outputs": [
    {
     "data": {
      "text/plain": [
       "'c:\\\\Users\\\\mohsi\\\\OneDrive\\\\Desktop\\\\Aspect-Based-Sentiment-Extraction'"
      ]
     },
     "execution_count": 6,
     "metadata": {},
     "output_type": "execute_result"
    }
   ],
   "source": [
    "path  # path to the absa folder"
   ]
  },
  {
   "cell_type": "code",
   "execution_count": 7,
   "metadata": {},
   "outputs": [],
   "source": [
    "# configuration class for hyperparameters and other configurations\n",
    "\n",
    "class Config:\n",
    "\n",
    "      def __init__(self):\n",
    "\n",
    "        # general hyperparameters\n",
    "        self.MAX_LEN = 250\n",
    "        self.BATCH_SIZE = 4\n",
    "        self.EPOCHS = 20\n",
    "        self.learning_rate = 0.00001\n",
    "        \n",
    "        # train, val and test split ratios (when using train_test_split of scikit learn)\n",
    "        self.TRAIN_VAL_SPLIT = 0.3\n",
    "        self.VAL_TEST_SPLIT = 0.5\n",
    "\n",
    "        # paths\n",
    "        #self.path = os.getcwd()[:-10]\n",
    "        self.data_path = f'{path}/data'\n",
    "        self.train_file_path = f'{path}/data/train.csv'\n",
    "        self.test_file_path = f'{path}/data/results/test.csv'\n",
    "        self.model_save_path = f'{path}/models'\n",
    "        self.results_save_path = f'{path}/data/results'\n",
    "\n",
    "        # model types\n",
    "        self.bert_base_model = True # if want to use the BertModel, otherwise DistilBertModel\n",
    "        self.case_based_model = True # if want to use the cased or uncased version\n",
    "\n",
    "        # others\n",
    "        self.num_workers = 0\n",
    "        self.RANDOM_SEED = 43\n",
    "        self.train_shuffle = True\n",
    "        self.valid_shuffle = False\n",
    "        self.device = torch.device(\"cuda\" if torch.cuda.is_available() else \"cpu\")"
   ]
  },
  {
   "cell_type": "code",
   "execution_count": 8,
   "metadata": {},
   "outputs": [
    {
     "name": "stdout",
     "output_type": "stream",
     "text": [
      "c:\\Users\\mohsi\\OneDrive\\Desktop\\Aspect-Based-Sentiment-Extraction/data\n"
     ]
    }
   ],
   "source": [
    "conf = Config()\n",
    "print(conf.data_path)"
   ]
  },
  {
   "cell_type": "markdown",
   "metadata": {},
   "source": [
    "## Exploration"
   ]
  },
  {
   "cell_type": "code",
   "execution_count": 9,
   "metadata": {
    "id": "fyte1K0YmEAg"
   },
   "outputs": [],
   "source": [
    "# reading the training and the testing files\n",
    "train_df = pd.read_csv(conf.train_file_path)\n",
    "test_df = pd.read_csv(conf.test_file_path)"
   ]
  },
  {
   "cell_type": "code",
   "execution_count": 10,
   "metadata": {
    "id": "yjTJvCayseuX"
   },
   "outputs": [],
   "source": [
    "# to make dataframe take up the whole width of the screen\n",
    "pd.set_option('display.max_colwidth', None) "
   ]
  },
  {
   "cell_type": "code",
   "execution_count": 11,
   "metadata": {
    "colab": {
     "base_uri": "https://localhost:8080/",
     "height": 206
    },
    "id": "0gdw-tRFmEK5",
    "outputId": "4eb17511-7a5f-4bd1-b487-afd71759e1a1"
   },
   "outputs": [
    {
     "data": {
      "text/html": [
       "<div>\n",
       "<style scoped>\n",
       "    .dataframe tbody tr th:only-of-type {\n",
       "        vertical-align: middle;\n",
       "    }\n",
       "\n",
       "    .dataframe tbody tr th {\n",
       "        vertical-align: top;\n",
       "    }\n",
       "\n",
       "    .dataframe thead th {\n",
       "        text-align: right;\n",
       "    }\n",
       "</style>\n",
       "<table border=\"1\" class=\"dataframe\">\n",
       "  <thead>\n",
       "    <tr style=\"text-align: right;\">\n",
       "      <th></th>\n",
       "      <th>text</th>\n",
       "      <th>aspect</th>\n",
       "      <th>label</th>\n",
       "    </tr>\n",
       "  </thead>\n",
       "  <tbody>\n",
       "    <tr>\n",
       "      <th>0</th>\n",
       "      <td>can you check whether its cancelled completely?</td>\n",
       "      <td>cancelled</td>\n",
       "      <td>1</td>\n",
       "    </tr>\n",
       "    <tr>\n",
       "      <th>1</th>\n",
       "      <td>cannot rely on both milk delivery and grocery items.</td>\n",
       "      <td>Milk</td>\n",
       "      <td>0</td>\n",
       "    </tr>\n",
       "    <tr>\n",
       "      <th>2</th>\n",
       "      <td>I get no notification, however the app is really fine</td>\n",
       "      <td>notification</td>\n",
       "      <td>0</td>\n",
       "    </tr>\n",
       "    <tr>\n",
       "      <th>3</th>\n",
       "      <td>Love this app, but would love it even more if Gantt charts and Calendar view were available on iPhone!</td>\n",
       "      <td>view</td>\n",
       "      <td>1</td>\n",
       "    </tr>\n",
       "    <tr>\n",
       "      <th>4</th>\n",
       "      <td>it does not let me load a clip on the scene</td>\n",
       "      <td>load</td>\n",
       "      <td>0</td>\n",
       "    </tr>\n",
       "  </tbody>\n",
       "</table>\n",
       "</div>"
      ],
      "text/plain": [
       "                                                                                                     text  \\\n",
       "0                                                         can you check whether its cancelled completely?   \n",
       "1                                                    cannot rely on both milk delivery and grocery items.   \n",
       "2                                                   I get no notification, however the app is really fine   \n",
       "3  Love this app, but would love it even more if Gantt charts and Calendar view were available on iPhone!   \n",
       "4                                                             it does not let me load a clip on the scene   \n",
       "\n",
       "         aspect  label  \n",
       "0     cancelled      1  \n",
       "1          Milk      0  \n",
       "2  notification      0  \n",
       "3          view      1  \n",
       "4          load      0  "
      ]
     },
     "execution_count": 11,
     "metadata": {},
     "output_type": "execute_result"
    }
   ],
   "source": [
    "train_df.head()"
   ]
  },
  {
   "cell_type": "code",
   "execution_count": 12,
   "metadata": {},
   "outputs": [
    {
     "data": {
      "text/plain": [
       "label\n",
       "0    1680\n",
       "1    1294\n",
       "2    1026\n",
       "Name: count, dtype: int64"
      ]
     },
     "execution_count": 12,
     "metadata": {},
     "output_type": "execute_result"
    }
   ],
   "source": [
    "train_df['label'].value_counts()"
   ]
  },
  {
   "cell_type": "code",
   "execution_count": 13,
   "metadata": {
    "colab": {
     "base_uri": "https://localhost:8080/",
     "height": 285
    },
    "id": "-EhwQBxMmEQa",
    "outputId": "79ec917d-1c12-4201-9fc0-596fc5a47197"
   },
   "outputs": [
    {
     "data": {
      "text/html": [
       "<div>\n",
       "<style scoped>\n",
       "    .dataframe tbody tr th:only-of-type {\n",
       "        vertical-align: middle;\n",
       "    }\n",
       "\n",
       "    .dataframe tbody tr th {\n",
       "        vertical-align: top;\n",
       "    }\n",
       "\n",
       "    .dataframe thead th {\n",
       "        text-align: right;\n",
       "    }\n",
       "</style>\n",
       "<table border=\"1\" class=\"dataframe\">\n",
       "  <thead>\n",
       "    <tr style=\"text-align: right;\">\n",
       "      <th></th>\n",
       "      <th>text</th>\n",
       "      <th>aspect</th>\n",
       "    </tr>\n",
       "  </thead>\n",
       "  <tbody>\n",
       "    <tr>\n",
       "      <th>0</th>\n",
       "      <td>improve your customer service and product availability</td>\n",
       "      <td>Customer service</td>\n",
       "    </tr>\n",
       "    <tr>\n",
       "      <th>1</th>\n",
       "      <td>functionality is great, almost as in desktop version, but mobile version needs a lot of improvement esp the speed</td>\n",
       "      <td>mobile version</td>\n",
       "    </tr>\n",
       "    <tr>\n",
       "      <th>2</th>\n",
       "      <td>but it keeps starting from zoomed in and then slowly zooming out as the music plays.</td>\n",
       "      <td>zoomed</td>\n",
       "    </tr>\n",
       "    <tr>\n",
       "      <th>3</th>\n",
       "      <td>hey marilyn thanks for your answer the soc2 type 1 certification is a document that can be shared with external parties for security assessment do you have a copy of the report we could explore?</td>\n",
       "      <td>Security</td>\n",
       "    </tr>\n",
       "    <tr>\n",
       "      <th>4</th>\n",
       "      <td>@delanovc @zoom @airtable @notionhq @calendly apple x lulu would be the most interesting if they ever expand their.</td>\n",
       "      <td>apple</td>\n",
       "    </tr>\n",
       "  </tbody>\n",
       "</table>\n",
       "</div>"
      ],
      "text/plain": [
       "                                                                                                                                                                                                 text  \\\n",
       "0                                                                                                                                              improve your customer service and product availability   \n",
       "1                                                                                   functionality is great, almost as in desktop version, but mobile version needs a lot of improvement esp the speed   \n",
       "2                                                                                                                but it keeps starting from zoomed in and then slowly zooming out as the music plays.   \n",
       "3  hey marilyn thanks for your answer the soc2 type 1 certification is a document that can be shared with external parties for security assessment do you have a copy of the report we could explore?   \n",
       "4                                                                                 @delanovc @zoom @airtable @notionhq @calendly apple x lulu would be the most interesting if they ever expand their.   \n",
       "\n",
       "             aspect  \n",
       "0  Customer service  \n",
       "1    mobile version  \n",
       "2            zoomed  \n",
       "3          Security  \n",
       "4             apple  "
      ]
     },
     "execution_count": 13,
     "metadata": {},
     "output_type": "execute_result"
    }
   ],
   "source": [
    "test_df.head()"
   ]
  },
  {
   "cell_type": "code",
   "execution_count": 14,
   "metadata": {
    "colab": {
     "base_uri": "https://localhost:8080/"
    },
    "id": "cqLwVpFcmETA",
    "outputId": "c35c50f3-f82c-497c-9e2e-17df9fa97146"
   },
   "outputs": [
    {
     "name": "stdout",
     "output_type": "stream",
     "text": [
      "Size of the train data: 4000\n",
      "Size of test data: 1000\n"
     ]
    }
   ],
   "source": [
    "print(f'Size of the train data: {len(train_df)}')\n",
    "print(f'Size of test data: {len(test_df)}')"
   ]
  },
  {
   "cell_type": "code",
   "execution_count": 15,
   "metadata": {
    "colab": {
     "base_uri": "https://localhost:8080/",
     "height": 334
    },
    "id": "V-xdSQZ2mEVt",
    "outputId": "031a0bcd-680b-4918-debd-ba8b1d8999c7",
    "scrolled": true
   },
   "outputs": [
    {
     "data": {
      "text/plain": [
       "[Text(0, 0, 'Negative: 1680'),\n",
       " Text(1, 0, 'Neutral: 1294'),\n",
       " Text(2, 0, 'Positive: 1026')]"
      ]
     },
     "execution_count": 15,
     "metadata": {},
     "output_type": "execute_result"
    },
    {
     "data": {
      "image/png": "[encoded data removed]",
      "text/plain": [
       "<Figure size 640x480 with 1 Axes>"
      ]
     },
     "metadata": {},
     "output_type": "display_data"
    }
   ],
   "source": [
    "# class distribution of positive and negative classes\n",
    "ax=sns.countplot(x='label',data=train_df)\n",
    "ax.set_xticklabels([f'Negative: {len(train_df.loc[train_df[\"label\"]==0])}',f'Neutral: {len(train_df.loc[train_df[\"label\"]==1])}', f'Positive: {len(train_df.loc[train_df[\"label\"]==2])}'])\n"
   ]
  },
  {
   "cell_type": "code",
   "execution_count": 16,
   "metadata": {
    "colab": {
     "base_uri": "https://localhost:8080/"
    },
    "id": "yWcBBN8VamLq",
    "outputId": "b4587e8a-9f56-49d5-d42d-12ca3cbe4a4d"
   },
   "outputs": [
    {
     "name": "stdout",
     "output_type": "stream",
     "text": [
      "0\n",
      "0.00 % of keyowrds values are missing in train data\n",
      "\n",
      "0\n",
      "0.00 % of keyowrds values are missing in test data\n"
     ]
    }
   ],
   "source": [
    "# are there any null rows in train data\n",
    "null_train_entries=train_df['text'].isnull().sum()\n",
    "print(null_train_entries)\n",
    "print(f'{null_train_entries/len(train_df)*100:.2f} % of keyowrds values are missing in train data')\n",
    "print()\n",
    "\n",
    "# are there any null rows in test data\n",
    "null_test_entries=test_df['text'].isnull().sum()\n",
    "print(null_test_entries)\n",
    "print(f'{null_test_entries/len(test_df)*100:.2f} % of keyowrds values are missing in test data')"
   ]
  },
  {
   "cell_type": "markdown",
   "metadata": {
    "id": "EltnZRjpealq"
   },
   "source": [
    "#### Analyzing stop words and punctuations"
   ]
  },
  {
   "cell_type": "code",
   "execution_count": 17,
   "metadata": {
    "id": "LfRakFIXee0A"
   },
   "outputs": [],
   "source": [
    "# create temporary corpus for analysing punctuations and stopwords:\n",
    "def temporary_corpus(target):\n",
    "    corpus=[]\n",
    "    \n",
    "    for text in train_df[train_df['label']==target]['text'].str.split():\n",
    "        for i in text:\n",
    "            corpus.append(i)\n",
    "    return corpus"
   ]
  },
  {
   "cell_type": "markdown",
   "metadata": {
    "id": "JAxCOpxHeqks"
   },
   "source": [
    "##### Punctuations"
   ]
  },
  {
   "cell_type": "code",
   "execution_count": 18,
   "metadata": {},
   "outputs": [],
   "source": [
    "# special"
   ]
  },
  {
   "cell_type": "code",
   "execution_count": 19,
   "metadata": {
    "colab": {
     "base_uri": "https://localhost:8080/",
     "height": 337
    },
    "id": "jd-Bk_Vrefy-",
    "outputId": "ccfd2205-25a8-4d97-a835-d59d2aee249f"
   },
   "outputs": [
    {
     "data": {
      "text/plain": [
       "<BarContainer object of 23 artists>"
      ]
     },
     "execution_count": 19,
     "metadata": {},
     "output_type": "execute_result"
    },
    {
     "data": {
      "image/png": "[encoded data removed]",
      "text/plain": [
       "<Figure size 1000x500 with 1 Axes>"
      ]
     },
     "metadata": {},
     "output_type": "display_data"
    }
   ],
   "source": [
    "# analyzing punctuation for Positive(2) sentiment class:\n",
    "plt.figure(figsize=(10,5))\n",
    "corpus=temporary_corpus(2)\n",
    "\n",
    "dic=defaultdict(int) # dictionary where missing keys are automatically initialized to 0\n",
    "special = string.punctuation\n",
    "for token in corpus:\n",
    "    for character in token:\n",
    "        if character in special:\n",
    "            dic[character]+=1\n",
    "        \n",
    "x,y=zip(*dic.items())\n",
    "plt.bar(x,y, color='g', hatch='/')"
   ]
  },
  {
   "cell_type": "code",
   "execution_count": 20,
   "metadata": {
    "colab": {
     "base_uri": "https://localhost:8080/",
     "height": 337
    },
    "id": "BQNmuhcVef2X",
    "outputId": "5ed5a3d7-7695-423e-8f61-6b9ed5e45274"
   },
   "outputs": [
    {
     "data": {
      "text/plain": [
       "<BarContainer object of 28 artists>"
      ]
     },
     "execution_count": 20,
     "metadata": {},
     "output_type": "execute_result"
    },
    {
     "data": {
      "image/png": "[encoded data removed]",
      "text/plain": [
       "<Figure size 1000x500 with 1 Axes>"
      ]
     },
     "metadata": {},
     "output_type": "display_data"
    }
   ],
   "source": [
    "# analyzing punctuation for Negative (1) sentiment class:\n",
    "plt.figure(figsize=(10,5))\n",
    "corpus=temporary_corpus(1)\n",
    "\n",
    "dic=defaultdict(int)\n",
    "special = string.punctuation\n",
    "for token in corpus:\n",
    "    for character in token:\n",
    "        if character in special:\n",
    "            dic[character]+=1\n",
    "        \n",
    "x,y=zip(*dic.items())\n",
    "plt.bar(x,y, color='purple', hatch='o')"
   ]
  },
  {
   "cell_type": "code",
   "execution_count": 21,
   "metadata": {
    "colab": {
     "base_uri": "https://localhost:8080/",
     "height": 337
    },
    "id": "rTzv4FMief4H",
    "outputId": "2ead0e05-7a0e-4ab2-fc71-787a1fb9aaf7"
   },
   "outputs": [
    {
     "data": {
      "text/plain": [
       "<BarContainer object of 28 artists>"
      ]
     },
     "execution_count": 21,
     "metadata": {},
     "output_type": "execute_result"
    },
    {
     "data": {
      "image/png": "[encoded data removed]",
      "text/plain": [
       "<Figure size 1000x500 with 1 Axes>"
      ]
     },
     "metadata": {},
     "output_type": "display_data"
    }
   ],
   "source": [
    "# analyzing punctuation for Neutral (0) sentiment class:\n",
    "plt.figure(figsize=(10,5))\n",
    "corpus=temporary_corpus(0)\n",
    "\n",
    "dic=defaultdict(int)\n",
    "special = string.punctuation\n",
    "for token in corpus:\n",
    "    for character in token:\n",
    "        if character in special:\n",
    "            dic[character]+=1\n",
    "        \n",
    "x,y=zip(*dic.items())\n",
    "plt.bar(x,y, color='c', hatch='-')"
   ]
  },
  {
   "cell_type": "markdown",
   "metadata": {
    "id": "lE74Wk1DgXI9"
   },
   "source": [
    "##### Stop words"
   ]
  },
  {
   "cell_type": "code",
   "execution_count": 22,
   "metadata": {
    "id": "hna_4sjZg8-A"
   },
   "outputs": [],
   "source": [
    "def frequent_stopwords(label):\n",
    "    corpus=temporary_corpus(label)\n",
    "\n",
    "    dic=defaultdict(int)\n",
    "    for word in corpus:\n",
    "        if word in nlp.Defaults.stop_words:\n",
    "            dic[word]+=1\n",
    "\n",
    "    # getting the top 10 most frequent stop words        \n",
    "    top=sorted(dic.items(), key=lambda x:x[1],reverse=True)[:10]\n",
    "\n",
    "    return top, dic"
   ]
  },
  {
   "cell_type": "code",
   "execution_count": 23,
   "metadata": {
    "id": "5YzSvcPphdUd"
   },
   "outputs": [],
   "source": [
    "# stop words for positive class\n",
    "top, dic = frequent_stopwords(2)"
   ]
  },
  {
   "cell_type": "code",
   "execution_count": 24,
   "metadata": {},
   "outputs": [
    {
     "data": {
      "text/plain": [
       "defaultdict(int,\n",
       "            {'i': 239,\n",
       "             'as': 60,\n",
       "             'a': 197,\n",
       "             'but': 110,\n",
       "             'the': 469,\n",
       "             'just': 43,\n",
       "             'too': 14,\n",
       "             'to': 351,\n",
       "             'please': 19,\n",
       "             'this': 145,\n",
       "             'is': 282,\n",
       "             'and': 383,\n",
       "             'of': 169,\n",
       "             'part': 2,\n",
       "             'can': 73,\n",
       "             'when': 19,\n",
       "             'not': 81,\n",
       "             'it': 197,\n",
       "             'only': 13,\n",
       "             'has': 52,\n",
       "             'become': 3,\n",
       "             'what': 21,\n",
       "             'could': 16,\n",
       "             'well': 16,\n",
       "             'am': 29,\n",
       "             'about': 16,\n",
       "             'in': 105,\n",
       "             'which': 18,\n",
       "             'you': 123,\n",
       "             'on': 139,\n",
       "             'something': 3,\n",
       "             'for': 217,\n",
       "             'will': 33,\n",
       "             'out': 19,\n",
       "             'by': 17,\n",
       "             'itself': 6,\n",
       "             'everything': 9,\n",
       "             'have': 93,\n",
       "             'such': 4,\n",
       "             'your': 54,\n",
       "             'so': 67,\n",
       "             'make': 21,\n",
       "             'any': 15,\n",
       "             'using': 31,\n",
       "             'more': 34,\n",
       "             'from': 28,\n",
       "             'via': 3,\n",
       "             'within': 3,\n",
       "             'with': 78,\n",
       "             'my': 132,\n",
       "             'be': 57,\n",
       "             'if': 30,\n",
       "             'most': 18,\n",
       "             'that': 75,\n",
       "             'does': 14,\n",
       "             'even': 15,\n",
       "             'or': 32,\n",
       "             'after': 5,\n",
       "             'we': 31,\n",
       "             'me': 27,\n",
       "             'should': 11,\n",
       "             'also': 14,\n",
       "             'through': 6,\n",
       "             'really': 36,\n",
       "             'an': 55,\n",
       "             'both': 2,\n",
       "             'enough': 3,\n",
       "             'our': 10,\n",
       "             'are': 41,\n",
       "             'some': 12,\n",
       "             'would': 42,\n",
       "             'do': 24,\n",
       "             'where': 9,\n",
       "             'once': 6,\n",
       "             'very': 58,\n",
       "             'they': 10,\n",
       "             'done': 3,\n",
       "             'get': 23,\n",
       "             'was': 27,\n",
       "             'while': 5,\n",
       "             'until': 5,\n",
       "             'now': 18,\n",
       "             'other': 16,\n",
       "             'one': 39,\n",
       "             'all': 61,\n",
       "             'no': 24,\n",
       "             'been': 17,\n",
       "             'two': 4,\n",
       "             'being': 3,\n",
       "             'up': 18,\n",
       "             'first': 7,\n",
       "             'might': 2,\n",
       "             'see': 13,\n",
       "             'full': 12,\n",
       "             'keep': 14,\n",
       "             'ever': 36,\n",
       "             'few': 9,\n",
       "             'perhaps': 2,\n",
       "             'then': 5,\n",
       "             'them': 6,\n",
       "             'how': 23,\n",
       "             'back': 8,\n",
       "             'around': 5,\n",
       "             'us': 10,\n",
       "             'must': 2,\n",
       "             'say': 3,\n",
       "             'its': 16,\n",
       "             'take': 11,\n",
       "             'much': 25,\n",
       "             'again': 3,\n",
       "             'whenever': 3,\n",
       "             'across': 4,\n",
       "             'may': 3,\n",
       "             'various': 2,\n",
       "             'five': 3,\n",
       "             'still': 7,\n",
       "             'quite': 4,\n",
       "             'used': 16,\n",
       "             'at': 26,\n",
       "             'anyone': 3,\n",
       "             'together': 2,\n",
       "             'whole': 2,\n",
       "             'than': 5,\n",
       "             'there': 22,\n",
       "             'made': 5,\n",
       "             'without': 7,\n",
       "             'these': 4,\n",
       "             'another': 3,\n",
       "             'rather': 1,\n",
       "             'already': 6,\n",
       "             'every': 5,\n",
       "             'almost': 4,\n",
       "             'least': 3,\n",
       "             'because': 9,\n",
       "             'had': 6,\n",
       "             'into': 6,\n",
       "             'go': 4,\n",
       "             'why': 3,\n",
       "             'less': 2,\n",
       "             'were': 4,\n",
       "             'here': 4,\n",
       "             'seems': 4,\n",
       "             'many': 15,\n",
       "             'those': 5,\n",
       "             'before': 8,\n",
       "             'last': 6,\n",
       "             'who': 4,\n",
       "             'their': 4,\n",
       "             'three': 2,\n",
       "             'anywhere': 1,\n",
       "             'however': 4,\n",
       "             'becoming': 1,\n",
       "             'doing': 3,\n",
       "             'give': 8,\n",
       "             'sometimes': 3,\n",
       "             'never': 4,\n",
       "             'per': 1,\n",
       "             'over': 1,\n",
       "             'move': 5,\n",
       "             'though': 3,\n",
       "             'put': 8,\n",
       "             'cannot': 3,\n",
       "             'between': 1,\n",
       "             'seem': 1,\n",
       "             'whatever': 4,\n",
       "             'call': 2,\n",
       "             'top': 2,\n",
       "             'same': 3,\n",
       "             'down': 4,\n",
       "             'except': 2,\n",
       "             'did': 4,\n",
       "             'besides': 2,\n",
       "             'side': 2,\n",
       "             'under': 2,\n",
       "             'his': 1,\n",
       "             'below': 1,\n",
       "             'above': 3,\n",
       "             'myself': 1,\n",
       "             'always': 1,\n",
       "             'beyond': 1,\n",
       "             'due': 2,\n",
       "             'during': 2,\n",
       "             'upon': 1,\n",
       "             'yet': 2,\n",
       "             'anything': 1,\n",
       "             'since': 5,\n",
       "             'nothing': 2,\n",
       "             'him': 1,\n",
       "             'he': 1,\n",
       "             \"'s\": 1,\n",
       "             'yours': 1,\n",
       "             'own': 1,\n",
       "             'became': 1,\n",
       "             'everyone': 1,\n",
       "             'behind': 1,\n",
       "             'regarding': 1,\n",
       "             'each': 2,\n",
       "             'several': 1,\n",
       "             'becomes': 1,\n",
       "             'she': 1,\n",
       "             'amount': 1,\n",
       "             'show': 2,\n",
       "             'mostly': 1,\n",
       "             'otherwise': 1})"
      ]
     },
     "execution_count": 24,
     "metadata": {},
     "output_type": "execute_result"
    }
   ],
   "source": [
    " dic #dictionary containing stop word counts in postive class"
   ]
  },
  {
   "cell_type": "code",
   "execution_count": 25,
   "metadata": {},
   "outputs": [
    {
     "data": {
      "text/plain": [
       "[('the', 469),\n",
       " ('and', 383),\n",
       " ('to', 351),\n",
       " ('is', 282),\n",
       " ('i', 239),\n",
       " ('for', 217),\n",
       " ('a', 197),\n",
       " ('it', 197),\n",
       " ('of', 169),\n",
       " ('this', 145)]"
      ]
     },
     "execution_count": 25,
     "metadata": {},
     "output_type": "execute_result"
    }
   ],
   "source": [
    "top"
   ]
  },
  {
   "cell_type": "code",
   "execution_count": 26,
   "metadata": {
    "colab": {
     "base_uri": "https://localhost:8080/"
    },
    "id": "LQI3NmR7hqhC",
    "outputId": "7e50f70d-aac9-4c08-e663-536d739187fe"
   },
   "outputs": [
    {
     "name": "stdout",
     "output_type": "stream",
     "text": [
      "Total number of stop words in spacy: 326\n",
      "Total number of stop words in our disaster class which are part of the spacy's stop words list: 204\n"
     ]
    }
   ],
   "source": [
    "print(f'Total number of stop words in spacy: {len(nlp.Defaults.stop_words)}')\n",
    "print(f'Total number of stop words in our disaster class which are part of the spacy\\'s stop words list: {len(dic)}')\n"
   ]
  },
  {
   "cell_type": "code",
   "execution_count": 27,
   "metadata": {
    "colab": {
     "base_uri": "https://localhost:8080/",
     "height": 282
    },
    "id": "AvvGa_6rhtpu",
    "outputId": "f565a8ef-91c0-41d6-854c-edf1e776513b"
   },
   "outputs": [
    {
     "data": {
      "text/plain": [
       "<BarContainer object of 10 artists>"
      ]
     },
     "execution_count": 27,
     "metadata": {},
     "output_type": "execute_result"
    },
    {
     "data": {
      "image/png": "[encoded data removed]",
      "text/plain": [
       "<Figure size 640x480 with 1 Axes>"
      ]
     },
     "metadata": {},
     "output_type": "display_data"
    }
   ],
   "source": [
    "# top 10 most frequent stop words in our corpus:\n",
    "x,y=zip(*top)\n",
    "plt.bar(x,y, hatch='o')"
   ]
  },
  {
   "cell_type": "code",
   "execution_count": 28,
   "metadata": {
    "id": "wUd4cFLUegDD"
   },
   "outputs": [],
   "source": [
    "# stop words for negative class\n",
    "top, dic = frequent_stopwords(1)"
   ]
  },
  {
   "cell_type": "code",
   "execution_count": 29,
   "metadata": {
    "colab": {
     "base_uri": "https://localhost:8080/"
    },
    "id": "9r3_JYULegFp",
    "outputId": "28f58096-39f5-4e98-c72b-cb0d1459d94c"
   },
   "outputs": [
    {
     "name": "stdout",
     "output_type": "stream",
     "text": [
      "Total number of stop words in spacy: 326\n",
      "Total number of stop words in our disaster class which are part of the spacy's stop words list: 222\n"
     ]
    }
   ],
   "source": [
    "print(f'Total number of stop words in spacy: {len(nlp.Defaults.stop_words)}')\n",
    "print(f'Total number of stop words in our disaster class which are part of the spacy\\'s stop words list: {len(dic)}')"
   ]
  },
  {
   "cell_type": "code",
   "execution_count": 30,
   "metadata": {
    "colab": {
     "base_uri": "https://localhost:8080/",
     "height": 282
    },
    "id": "tOyiu71SegID",
    "outputId": "db47be86-fa1c-444f-bda6-35dc089a30a0"
   },
   "outputs": [
    {
     "data": {
      "text/plain": [
       "<BarContainer object of 10 artists>"
      ]
     },
     "execution_count": 30,
     "metadata": {},
     "output_type": "execute_result"
    },
    {
     "data": {
      "image/png": "[encoded data removed]",
      "text/plain": [
       "<Figure size 640x480 with 1 Axes>"
      ]
     },
     "metadata": {},
     "output_type": "display_data"
    }
   ],
   "source": [
    "# top 10 most frequent stop words in our corpus:\n",
    "x,y=zip(*top)\n",
    "plt.bar(x,y, color='orange', hatch='x')"
   ]
  },
  {
   "cell_type": "code",
   "execution_count": 31,
   "metadata": {
    "id": "5OEMopx5egLS"
   },
   "outputs": [],
   "source": [
    "# stop words for neutral class\n",
    "top, dic = frequent_stopwords(0)"
   ]
  },
  {
   "cell_type": "code",
   "execution_count": 32,
   "metadata": {},
   "outputs": [
    {
     "data": {
      "text/plain": [
       "[('the', 998),\n",
       " ('to', 629),\n",
       " ('and', 519),\n",
       " ('is', 515),\n",
       " ('i', 450),\n",
       " ('not', 426),\n",
       " ('a', 382),\n",
       " ('of', 353),\n",
       " ('it', 338),\n",
       " ('on', 307)]"
      ]
     },
     "execution_count": 32,
     "metadata": {},
     "output_type": "execute_result"
    }
   ],
   "source": [
    "top"
   ]
  },
  {
   "cell_type": "code",
   "execution_count": 33,
   "metadata": {
    "colab": {
     "base_uri": "https://localhost:8080/"
    },
    "id": "F3pb-m1HegOC",
    "outputId": "eeef9bfa-0dca-46c7-d676-53edbf33e4af"
   },
   "outputs": [
    {
     "name": "stdout",
     "output_type": "stream",
     "text": [
      "Total number of stop words in spacy: 326\n",
      "Total number of stop words in our disaster class which are part of the spacy's stop words list: 227\n"
     ]
    }
   ],
   "source": [
    "print(f'Total number of stop words in spacy: {len(nlp.Defaults.stop_words)}')\n",
    "print(f'Total number of stop words in our disaster class which are part of the spacy\\'s stop words list: {len(dic)}')"
   ]
  },
  {
   "cell_type": "code",
   "execution_count": 34,
   "metadata": {
    "colab": {
     "base_uri": "https://localhost:8080/",
     "height": 282
    },
    "id": "OPvEW0e3egQa",
    "outputId": "80257983-2312-4488-d332-db46a43a06d1",
    "scrolled": false
   },
   "outputs": [
    {
     "data": {
      "text/plain": [
       "<BarContainer object of 10 artists>"
      ]
     },
     "execution_count": 34,
     "metadata": {},
     "output_type": "execute_result"
    },
    {
     "data": {
      "image/png": "[encoded data removed]",
      "text/plain": [
       "<Figure size 640x480 with 1 Axes>"
      ]
     },
     "metadata": {},
     "output_type": "display_data"
    }
   ],
   "source": [
    "# top 10 most frequent stop words in our corpus:\n",
    "x,y=zip(*top)\n",
    "plt.bar(x,y, color='green', hatch='|')"
   ]
  },
  {
   "cell_type": "code",
   "execution_count": 35,
   "metadata": {},
   "outputs": [],
   "source": [
    "feature = 'mention_count'\n",
    "train_df[feature] = train_df['text'].apply(lambda x: len([ch for ch in str(x) if ch == '@']))\n",
    "test_df[feature] = test_df['text'].apply(lambda x: len([ch for ch in str(x) if ch == '@']))"
   ]
  },
  {
   "cell_type": "code",
   "execution_count": 36,
   "metadata": {
    "colab": {
     "base_uri": "https://localhost:8080/"
    },
    "id": "sdcjZ4ctegVo",
    "outputId": "821ee592-7588-4cf1-8f33-16c27313e26a"
   },
   "outputs": [
    {
     "name": "stdout",
     "output_type": "stream",
     "text": [
      "8\n",
      "6\n"
     ]
    }
   ],
   "source": [
    "print(len(train_df[feature].unique()))\n",
    "print(len(test_df[feature].unique()))"
   ]
  },
  {
   "cell_type": "code",
   "execution_count": 37,
   "metadata": {
    "id": "iihAEusfegYk"
   },
   "outputs": [],
   "source": [
    "feature='count_of_hashtags'\n",
    "train_df[feature] = train_df['text'].apply(lambda x: len([ch for ch in str(x) if ch == '#']))\n",
    "test_df[feature] = test_df['text'].apply(lambda x: len([ch for ch in str(x) if ch == '#']))"
   ]
  },
  {
   "cell_type": "code",
   "execution_count": 38,
   "metadata": {
    "colab": {
     "base_uri": "https://localhost:8080/"
    },
    "id": "Rri_Nt1Vegd_",
    "outputId": "2bd310e7-0b35-4bd3-fdba-74f9edef64a6"
   },
   "outputs": [
    {
     "name": "stdout",
     "output_type": "stream",
     "text": [
      "3\n",
      "3\n"
     ]
    }
   ],
   "source": [
    "print(len(train_df[feature].unique()))\n",
    "print(len(test_df[feature].unique()))"
   ]
  },
  {
   "cell_type": "code",
   "execution_count": 39,
   "metadata": {
    "id": "bdkJ04_leggR"
   },
   "outputs": [],
   "source": [
    "feature='count_of_urls'\n",
    "train_df[feature] = train_df['text'].apply(lambda x: len([word for word in str(x).lower().split() if 'http' in word or 'https' in word]))\n",
    "test_df[feature] = test_df['text'].apply(lambda x: len([word for word in str(x).lower().split() if 'http' in word or 'https' in word]))"
   ]
  },
  {
   "cell_type": "code",
   "execution_count": 40,
   "metadata": {
    "colab": {
     "base_uri": "https://localhost:8080/"
    },
    "id": "HRtrHUYdegmN",
    "outputId": "f57789a2-2a81-4ad5-8c43-d48b13b4fc78"
   },
   "outputs": [
    {
     "name": "stdout",
     "output_type": "stream",
     "text": [
      "1\n",
      "1\n"
     ]
    }
   ],
   "source": [
    "print(len(train_df[feature].unique()))\n",
    "print(len(test_df[feature].unique()))"
   ]
  },
  {
   "cell_type": "code",
   "execution_count": 41,
   "metadata": {
    "colab": {
     "base_uri": "https://localhost:8080/"
    },
    "id": "VYYgfyKEegsS",
    "outputId": "f3083119-0d99-4c86-8058-b8f160e476d6"
   },
   "outputs": [
    {
     "name": "stdout",
     "output_type": "stream",
     "text": [
      "(1544,)\n",
      "(558,)\n"
     ]
    }
   ],
   "source": [
    "print(train_df['aspect'].unique().shape)\n",
    "print(test_df['aspect'].unique().shape)"
   ]
  },
  {
   "cell_type": "code",
   "execution_count": 42,
   "metadata": {
    "id": "uccDzpbmlCo3"
   },
   "outputs": [],
   "source": [
    "# minor preprocessing of the text\n",
    "def preprocess_text(doc):\n",
    "    \n",
    "    # removing the URLs\n",
    "    url_pattern = r'\\S*https?:\\S*'\n",
    "    data = re.sub(url_pattern,'',doc)\n",
    "\n",
    "    # removing the usernames:\n",
    "    username_pattern = r'@[^\\s]+'\n",
    "    data = re.sub(username_pattern,'',data)\n",
    "\n",
    "    # remove special characters \n",
    "    special_chars = r'[^\\w\\s]|_'\n",
    "    data = re.sub(special_chars, '', data)\n",
    "\n",
    "    # remving patterns in square brackets\n",
    "    sq_bracks_pat = r'\\[.*?\\]'\n",
    "    data = re.sub(sq_bracks_pat, '', data)\n",
    "\n",
    "    # removing unwanted html tags\n",
    "    html_pattern = r'<.*?>+'\n",
    "    data = re.sub(html_pattern, '', data)\n",
    "\n",
    "    return data"
   ]
  },
  {
   "cell_type": "code",
   "execution_count": 43,
   "metadata": {
    "id": "nxRKAaKzq6QS"
   },
   "outputs": [],
   "source": [
    "# applying preprocessing to both the train and the test data text column\n",
    "train_df['cleaned_text']=train_df['text'].apply(lambda text:preprocess_text(text))\n",
    "test_df['cleaned_text']=test_df['text'].apply(lambda text:preprocess_text(text))"
   ]
  },
  {
   "cell_type": "code",
   "execution_count": 44,
   "metadata": {
    "colab": {
     "base_uri": "https://localhost:8080/",
     "height": 268
    },
    "id": "vmWjKChEriSX",
    "outputId": "51c498e2-7f63-4861-ae69-9731a08aca4c"
   },
   "outputs": [
    {
     "data": {
      "text/html": [
       "<div>\n",
       "<style scoped>\n",
       "    .dataframe tbody tr th:only-of-type {\n",
       "        vertical-align: middle;\n",
       "    }\n",
       "\n",
       "    .dataframe tbody tr th {\n",
       "        vertical-align: top;\n",
       "    }\n",
       "\n",
       "    .dataframe thead th {\n",
       "        text-align: right;\n",
       "    }\n",
       "</style>\n",
       "<table border=\"1\" class=\"dataframe\">\n",
       "  <thead>\n",
       "    <tr style=\"text-align: right;\">\n",
       "      <th></th>\n",
       "      <th>text</th>\n",
       "      <th>aspect</th>\n",
       "      <th>label</th>\n",
       "      <th>mention_count</th>\n",
       "      <th>count_of_hashtags</th>\n",
       "      <th>count_of_urls</th>\n",
       "      <th>cleaned_text</th>\n",
       "    </tr>\n",
       "  </thead>\n",
       "  <tbody>\n",
       "    <tr>\n",
       "      <th>0</th>\n",
       "      <td>can you check whether its cancelled completely?</td>\n",
       "      <td>cancelled</td>\n",
       "      <td>1</td>\n",
       "      <td>0</td>\n",
       "      <td>0</td>\n",
       "      <td>0</td>\n",
       "      <td>can you check whether its cancelled completely</td>\n",
       "    </tr>\n",
       "    <tr>\n",
       "      <th>1</th>\n",
       "      <td>cannot rely on both milk delivery and grocery items.</td>\n",
       "      <td>Milk</td>\n",
       "      <td>0</td>\n",
       "      <td>0</td>\n",
       "      <td>0</td>\n",
       "      <td>0</td>\n",
       "      <td>cannot rely on both milk delivery and grocery items</td>\n",
       "    </tr>\n",
       "    <tr>\n",
       "      <th>2</th>\n",
       "      <td>I get no notification, however the app is really fine</td>\n",
       "      <td>notification</td>\n",
       "      <td>0</td>\n",
       "      <td>0</td>\n",
       "      <td>0</td>\n",
       "      <td>0</td>\n",
       "      <td>I get no notification however the app is really fine</td>\n",
       "    </tr>\n",
       "    <tr>\n",
       "      <th>3</th>\n",
       "      <td>Love this app, but would love it even more if Gantt charts and Calendar view were available on iPhone!</td>\n",
       "      <td>view</td>\n",
       "      <td>1</td>\n",
       "      <td>0</td>\n",
       "      <td>0</td>\n",
       "      <td>0</td>\n",
       "      <td>Love this app but would love it even more if Gantt charts and Calendar view were available on iPhone</td>\n",
       "    </tr>\n",
       "    <tr>\n",
       "      <th>4</th>\n",
       "      <td>it does not let me load a clip on the scene</td>\n",
       "      <td>load</td>\n",
       "      <td>0</td>\n",
       "      <td>0</td>\n",
       "      <td>0</td>\n",
       "      <td>0</td>\n",
       "      <td>it does not let me load a clip on the scene</td>\n",
       "    </tr>\n",
       "  </tbody>\n",
       "</table>\n",
       "</div>"
      ],
      "text/plain": [
       "                                                                                                     text  \\\n",
       "0                                                         can you check whether its cancelled completely?   \n",
       "1                                                    cannot rely on both milk delivery and grocery items.   \n",
       "2                                                   I get no notification, however the app is really fine   \n",
       "3  Love this app, but would love it even more if Gantt charts and Calendar view were available on iPhone!   \n",
       "4                                                             it does not let me load a clip on the scene   \n",
       "\n",
       "         aspect  label  mention_count  count_of_hashtags  count_of_urls  \\\n",
       "0     cancelled      1              0                  0              0   \n",
       "1          Milk      0              0                  0              0   \n",
       "2  notification      0              0                  0              0   \n",
       "3          view      1              0                  0              0   \n",
       "4          load      0              0                  0              0   \n",
       "\n",
       "                                                                                           cleaned_text  \n",
       "0                                                        can you check whether its cancelled completely  \n",
       "1                                                   cannot rely on both milk delivery and grocery items  \n",
       "2                                                  I get no notification however the app is really fine  \n",
       "3  Love this app but would love it even more if Gantt charts and Calendar view were available on iPhone  \n",
       "4                                                           it does not let me load a clip on the scene  "
      ]
     },
     "execution_count": 44,
     "metadata": {},
     "output_type": "execute_result"
    }
   ],
   "source": [
    "train_df.head()"
   ]
  },
  {
   "cell_type": "code",
   "execution_count": 45,
   "metadata": {
    "id": "CNfI-r6Urmgv"
   },
   "outputs": [],
   "source": [
    "# applying preprocessing to both the train and the test data aspect column\n",
    "train_df['cleaned_aspect']=train_df['aspect'].apply(lambda text:preprocess_text(text))\n",
    "test_df['cleaned_aspect']=test_df['aspect'].apply(lambda text:preprocess_text(text))"
   ]
  },
  {
   "cell_type": "code",
   "execution_count": 46,
   "metadata": {
    "colab": {
     "base_uri": "https://localhost:8080/",
     "height": 337
    },
    "id": "S-D6mw3Gr1Ba",
    "outputId": "8e6d2873-44a7-4aaf-bbd2-f2606deeb52e"
   },
   "outputs": [
    {
     "data": {
      "text/html": [
       "<div>\n",
       "<style scoped>\n",
       "    .dataframe tbody tr th:only-of-type {\n",
       "        vertical-align: middle;\n",
       "    }\n",
       "\n",
       "    .dataframe tbody tr th {\n",
       "        vertical-align: top;\n",
       "    }\n",
       "\n",
       "    .dataframe thead th {\n",
       "        text-align: right;\n",
       "    }\n",
       "</style>\n",
       "<table border=\"1\" class=\"dataframe\">\n",
       "  <thead>\n",
       "    <tr style=\"text-align: right;\">\n",
       "      <th></th>\n",
       "      <th>text</th>\n",
       "      <th>aspect</th>\n",
       "      <th>label</th>\n",
       "      <th>mention_count</th>\n",
       "      <th>count_of_hashtags</th>\n",
       "      <th>count_of_urls</th>\n",
       "      <th>cleaned_text</th>\n",
       "      <th>cleaned_aspect</th>\n",
       "    </tr>\n",
       "  </thead>\n",
       "  <tbody>\n",
       "    <tr>\n",
       "      <th>0</th>\n",
       "      <td>can you check whether its cancelled completely?</td>\n",
       "      <td>cancelled</td>\n",
       "      <td>1</td>\n",
       "      <td>0</td>\n",
       "      <td>0</td>\n",
       "      <td>0</td>\n",
       "      <td>can you check whether its cancelled completely</td>\n",
       "      <td>cancelled</td>\n",
       "    </tr>\n",
       "    <tr>\n",
       "      <th>1</th>\n",
       "      <td>cannot rely on both milk delivery and grocery items.</td>\n",
       "      <td>Milk</td>\n",
       "      <td>0</td>\n",
       "      <td>0</td>\n",
       "      <td>0</td>\n",
       "      <td>0</td>\n",
       "      <td>cannot rely on both milk delivery and grocery items</td>\n",
       "      <td>Milk</td>\n",
       "    </tr>\n",
       "    <tr>\n",
       "      <th>2</th>\n",
       "      <td>I get no notification, however the app is really fine</td>\n",
       "      <td>notification</td>\n",
       "      <td>0</td>\n",
       "      <td>0</td>\n",
       "      <td>0</td>\n",
       "      <td>0</td>\n",
       "      <td>I get no notification however the app is really fine</td>\n",
       "      <td>notification</td>\n",
       "    </tr>\n",
       "    <tr>\n",
       "      <th>3</th>\n",
       "      <td>Love this app, but would love it even more if Gantt charts and Calendar view were available on iPhone!</td>\n",
       "      <td>view</td>\n",
       "      <td>1</td>\n",
       "      <td>0</td>\n",
       "      <td>0</td>\n",
       "      <td>0</td>\n",
       "      <td>Love this app but would love it even more if Gantt charts and Calendar view were available on iPhone</td>\n",
       "      <td>view</td>\n",
       "    </tr>\n",
       "    <tr>\n",
       "      <th>4</th>\n",
       "      <td>it does not let me load a clip on the scene</td>\n",
       "      <td>load</td>\n",
       "      <td>0</td>\n",
       "      <td>0</td>\n",
       "      <td>0</td>\n",
       "      <td>0</td>\n",
       "      <td>it does not let me load a clip on the scene</td>\n",
       "      <td>load</td>\n",
       "    </tr>\n",
       "  </tbody>\n",
       "</table>\n",
       "</div>"
      ],
      "text/plain": [
       "                                                                                                     text  \\\n",
       "0                                                         can you check whether its cancelled completely?   \n",
       "1                                                    cannot rely on both milk delivery and grocery items.   \n",
       "2                                                   I get no notification, however the app is really fine   \n",
       "3  Love this app, but would love it even more if Gantt charts and Calendar view were available on iPhone!   \n",
       "4                                                             it does not let me load a clip on the scene   \n",
       "\n",
       "         aspect  label  mention_count  count_of_hashtags  count_of_urls  \\\n",
       "0     cancelled      1              0                  0              0   \n",
       "1          Milk      0              0                  0              0   \n",
       "2  notification      0              0                  0              0   \n",
       "3          view      1              0                  0              0   \n",
       "4          load      0              0                  0              0   \n",
       "\n",
       "                                                                                           cleaned_text  \\\n",
       "0                                                        can you check whether its cancelled completely   \n",
       "1                                                   cannot rely on both milk delivery and grocery items   \n",
       "2                                                  I get no notification however the app is really fine   \n",
       "3  Love this app but would love it even more if Gantt charts and Calendar view were available on iPhone   \n",
       "4                                                           it does not let me load a clip on the scene   \n",
       "\n",
       "  cleaned_aspect  \n",
       "0      cancelled  \n",
       "1           Milk  \n",
       "2   notification  \n",
       "3           view  \n",
       "4           load  "
      ]
     },
     "execution_count": 46,
     "metadata": {},
     "output_type": "execute_result"
    }
   ],
   "source": [
    "train_df.head()"
   ]
  },
  {
   "cell_type": "code",
   "execution_count": 47,
   "metadata": {
    "colab": {
     "base_uri": "https://localhost:8080/",
     "height": 406
    },
    "id": "ONxKkwlfsILM",
    "outputId": "8185b0d3-ea2f-4280-ba71-a83e8c5ec62f"
   },
   "outputs": [
    {
     "data": {
      "text/html": [
       "<div>\n",
       "<style scoped>\n",
       "    .dataframe tbody tr th:only-of-type {\n",
       "        vertical-align: middle;\n",
       "    }\n",
       "\n",
       "    .dataframe tbody tr th {\n",
       "        vertical-align: top;\n",
       "    }\n",
       "\n",
       "    .dataframe thead th {\n",
       "        text-align: right;\n",
       "    }\n",
       "</style>\n",
       "<table border=\"1\" class=\"dataframe\">\n",
       "  <thead>\n",
       "    <tr style=\"text-align: right;\">\n",
       "      <th></th>\n",
       "      <th>text</th>\n",
       "      <th>aspect</th>\n",
       "      <th>mention_count</th>\n",
       "      <th>count_of_hashtags</th>\n",
       "      <th>count_of_urls</th>\n",
       "      <th>cleaned_text</th>\n",
       "      <th>cleaned_aspect</th>\n",
       "    </tr>\n",
       "  </thead>\n",
       "  <tbody>\n",
       "    <tr>\n",
       "      <th>0</th>\n",
       "      <td>improve your customer service and product availability</td>\n",
       "      <td>Customer service</td>\n",
       "      <td>0</td>\n",
       "      <td>0</td>\n",
       "      <td>0</td>\n",
       "      <td>improve your customer service and product availability</td>\n",
       "      <td>Customer service</td>\n",
       "    </tr>\n",
       "    <tr>\n",
       "      <th>1</th>\n",
       "      <td>functionality is great, almost as in desktop version, but mobile version needs a lot of improvement esp the speed</td>\n",
       "      <td>mobile version</td>\n",
       "      <td>0</td>\n",
       "      <td>0</td>\n",
       "      <td>0</td>\n",
       "      <td>functionality is great almost as in desktop version but mobile version needs a lot of improvement esp the speed</td>\n",
       "      <td>mobile version</td>\n",
       "    </tr>\n",
       "    <tr>\n",
       "      <th>2</th>\n",
       "      <td>but it keeps starting from zoomed in and then slowly zooming out as the music plays.</td>\n",
       "      <td>zoomed</td>\n",
       "      <td>0</td>\n",
       "      <td>0</td>\n",
       "      <td>0</td>\n",
       "      <td>but it keeps starting from zoomed in and then slowly zooming out as the music plays</td>\n",
       "      <td>zoomed</td>\n",
       "    </tr>\n",
       "    <tr>\n",
       "      <th>3</th>\n",
       "      <td>hey marilyn thanks for your answer the soc2 type 1 certification is a document that can be shared with external parties for security assessment do you have a copy of the report we could explore?</td>\n",
       "      <td>Security</td>\n",
       "      <td>0</td>\n",
       "      <td>0</td>\n",
       "      <td>0</td>\n",
       "      <td>hey marilyn thanks for your answer the soc2 type 1 certification is a document that can be shared with external parties for security assessment do you have a copy of the report we could explore</td>\n",
       "      <td>Security</td>\n",
       "    </tr>\n",
       "    <tr>\n",
       "      <th>4</th>\n",
       "      <td>@delanovc @zoom @airtable @notionhq @calendly apple x lulu would be the most interesting if they ever expand their.</td>\n",
       "      <td>apple</td>\n",
       "      <td>5</td>\n",
       "      <td>0</td>\n",
       "      <td>0</td>\n",
       "      <td>apple x lulu would be the most interesting if they ever expand their</td>\n",
       "      <td>apple</td>\n",
       "    </tr>\n",
       "  </tbody>\n",
       "</table>\n",
       "</div>"
      ],
      "text/plain": [
       "                                                                                                                                                                                                 text  \\\n",
       "0                                                                                                                                              improve your customer service and product availability   \n",
       "1                                                                                   functionality is great, almost as in desktop version, but mobile version needs a lot of improvement esp the speed   \n",
       "2                                                                                                                but it keeps starting from zoomed in and then slowly zooming out as the music plays.   \n",
       "3  hey marilyn thanks for your answer the soc2 type 1 certification is a document that can be shared with external parties for security assessment do you have a copy of the report we could explore?   \n",
       "4                                                                                 @delanovc @zoom @airtable @notionhq @calendly apple x lulu would be the most interesting if they ever expand their.   \n",
       "\n",
       "             aspect  mention_count  count_of_hashtags  count_of_urls  \\\n",
       "0  Customer service              0                  0              0   \n",
       "1    mobile version              0                  0              0   \n",
       "2            zoomed              0                  0              0   \n",
       "3          Security              0                  0              0   \n",
       "4             apple              5                  0              0   \n",
       "\n",
       "                                                                                                                                                                                        cleaned_text  \\\n",
       "0                                                                                                                                             improve your customer service and product availability   \n",
       "1                                                                                    functionality is great almost as in desktop version but mobile version needs a lot of improvement esp the speed   \n",
       "2                                                                                                                but it keeps starting from zoomed in and then slowly zooming out as the music plays   \n",
       "3  hey marilyn thanks for your answer the soc2 type 1 certification is a document that can be shared with external parties for security assessment do you have a copy of the report we could explore   \n",
       "4                                                                                                                               apple x lulu would be the most interesting if they ever expand their   \n",
       "\n",
       "     cleaned_aspect  \n",
       "0  Customer service  \n",
       "1    mobile version  \n",
       "2            zoomed  \n",
       "3          Security  \n",
       "4             apple  "
      ]
     },
     "execution_count": 47,
     "metadata": {},
     "output_type": "execute_result"
    }
   ],
   "source": [
    "test_df.head()"
   ]
  },
  {
   "cell_type": "code",
   "execution_count": 48,
   "metadata": {
    "id": "zcYfoyUT78FA"
   },
   "outputs": [],
   "source": [
    "train_df = train_df[['text', 'aspect', 'cleaned_text', 'cleaned_aspect', 'label']] # selecting only the relevant columns\n",
    "test_df = test_df[['text', 'aspect', 'cleaned_text', 'cleaned_aspect']]"
   ]
  },
  {
   "cell_type": "code",
   "execution_count": 49,
   "metadata": {
    "colab": {
     "base_uri": "https://localhost:8080/",
     "height": 268
    },
    "id": "pc3rwGkx9GCS",
    "outputId": "b88512f6-d80c-4e08-8d0f-6ac06caecfb4"
   },
   "outputs": [
    {
     "data": {
      "text/html": [
       "<div>\n",
       "<style scoped>\n",
       "    .dataframe tbody tr th:only-of-type {\n",
       "        vertical-align: middle;\n",
       "    }\n",
       "\n",
       "    .dataframe tbody tr th {\n",
       "        vertical-align: top;\n",
       "    }\n",
       "\n",
       "    .dataframe thead th {\n",
       "        text-align: right;\n",
       "    }\n",
       "</style>\n",
       "<table border=\"1\" class=\"dataframe\">\n",
       "  <thead>\n",
       "    <tr style=\"text-align: right;\">\n",
       "      <th></th>\n",
       "      <th>text</th>\n",
       "      <th>aspect</th>\n",
       "      <th>cleaned_text</th>\n",
       "      <th>cleaned_aspect</th>\n",
       "      <th>label</th>\n",
       "    </tr>\n",
       "  </thead>\n",
       "  <tbody>\n",
       "    <tr>\n",
       "      <th>0</th>\n",
       "      <td>can you check whether its cancelled completely?</td>\n",
       "      <td>cancelled</td>\n",
       "      <td>can you check whether its cancelled completely</td>\n",
       "      <td>cancelled</td>\n",
       "      <td>1</td>\n",
       "    </tr>\n",
       "    <tr>\n",
       "      <th>1</th>\n",
       "      <td>cannot rely on both milk delivery and grocery items.</td>\n",
       "      <td>Milk</td>\n",
       "      <td>cannot rely on both milk delivery and grocery items</td>\n",
       "      <td>Milk</td>\n",
       "      <td>0</td>\n",
       "    </tr>\n",
       "    <tr>\n",
       "      <th>2</th>\n",
       "      <td>I get no notification, however the app is really fine</td>\n",
       "      <td>notification</td>\n",
       "      <td>I get no notification however the app is really fine</td>\n",
       "      <td>notification</td>\n",
       "      <td>0</td>\n",
       "    </tr>\n",
       "    <tr>\n",
       "      <th>3</th>\n",
       "      <td>Love this app, but would love it even more if Gantt charts and Calendar view were available on iPhone!</td>\n",
       "      <td>view</td>\n",
       "      <td>Love this app but would love it even more if Gantt charts and Calendar view were available on iPhone</td>\n",
       "      <td>view</td>\n",
       "      <td>1</td>\n",
       "    </tr>\n",
       "    <tr>\n",
       "      <th>4</th>\n",
       "      <td>it does not let me load a clip on the scene</td>\n",
       "      <td>load</td>\n",
       "      <td>it does not let me load a clip on the scene</td>\n",
       "      <td>load</td>\n",
       "      <td>0</td>\n",
       "    </tr>\n",
       "  </tbody>\n",
       "</table>\n",
       "</div>"
      ],
      "text/plain": [
       "                                                                                                     text  \\\n",
       "0                                                         can you check whether its cancelled completely?   \n",
       "1                                                    cannot rely on both milk delivery and grocery items.   \n",
       "2                                                   I get no notification, however the app is really fine   \n",
       "3  Love this app, but would love it even more if Gantt charts and Calendar view were available on iPhone!   \n",
       "4                                                             it does not let me load a clip on the scene   \n",
       "\n",
       "         aspect  \\\n",
       "0     cancelled   \n",
       "1          Milk   \n",
       "2  notification   \n",
       "3          view   \n",
       "4          load   \n",
       "\n",
       "                                                                                           cleaned_text  \\\n",
       "0                                                        can you check whether its cancelled completely   \n",
       "1                                                   cannot rely on both milk delivery and grocery items   \n",
       "2                                                  I get no notification however the app is really fine   \n",
       "3  Love this app but would love it even more if Gantt charts and Calendar view were available on iPhone   \n",
       "4                                                           it does not let me load a clip on the scene   \n",
       "\n",
       "  cleaned_aspect  label  \n",
       "0      cancelled      1  \n",
       "1           Milk      0  \n",
       "2   notification      0  \n",
       "3           view      1  \n",
       "4           load      0  "
      ]
     },
     "execution_count": 49,
     "metadata": {},
     "output_type": "execute_result"
    }
   ],
   "source": [
    "train_df.head()"
   ]
  },
  {
   "cell_type": "code",
   "execution_count": 50,
   "metadata": {
    "colab": {
     "base_uri": "https://localhost:8080/"
    },
    "id": "mK1shlHiPUuy",
    "outputId": "d3343aa8-9f49-4fbb-ce0e-d006fbebb9d3"
   },
   "outputs": [
    {
     "data": {
      "text/plain": [
       "1446"
      ]
     },
     "execution_count": 50,
     "metadata": {},
     "output_type": "execute_result"
    }
   ],
   "source": [
    "max(train_df['cleaned_text'].apply(lambda txt: len(txt)))"
   ]
  },
  {
   "cell_type": "code",
   "execution_count": 51,
   "metadata": {
    "colab": {
     "base_uri": "https://localhost:8080/"
    },
    "id": "n7PRK2f8PWl7",
    "outputId": "4eef8d3b-ab77-4b2d-ada9-28dd9cfcb2f3"
   },
   "outputs": [
    {
     "data": {
      "text/plain": [
       "1627"
      ]
     },
     "execution_count": 51,
     "metadata": {},
     "output_type": "execute_result"
    }
   ],
   "source": [
    "max(test_df['cleaned_text'].apply(lambda txt : len(txt)))"
   ]
  },
  {
   "cell_type": "code",
   "execution_count": 52,
   "metadata": {
    "colab": {
     "base_uri": "https://localhost:8080/"
    },
    "id": "R1jbiMy09_C8",
    "outputId": "9d6a2453-0c68-4f76-9fae-09dc65480415"
   },
   "outputs": [
    {
     "data": {
      "text/plain": [
       "1627"
      ]
     },
     "execution_count": 52,
     "metadata": {},
     "output_type": "execute_result"
    }
   ],
   "source": [
    "# maximum length of the text present in the given dataset\n",
    "max_len=max(max(train_df['cleaned_text'].apply(lambda txt : len(txt))), max(test_df['cleaned_text'].apply(lambda txt : len(txt))))\n",
    "max_len"
   ]
  },
  {
   "cell_type": "markdown",
   "metadata": {
    "id": "YY2_tAL6M0Vp"
   },
   "source": [
    "## Using BERT For Our Task"
   ]
  },
  {
   "cell_type": "code",
   "execution_count": 53,
   "metadata": {},
   "outputs": [],
   "source": [
    "clean_train_path = 'C:\\\\Users\\\\mohsi\\\\OneDrive\\\\Desktop\\\\Aspect-Based-Sentiment-Extraction\\\\data\\\\clean_train.csv'\n",
    "clean_test_path = 'C:\\\\Users\\mohsi\\\\OneDrive\\Desktop\\\\Aspect-Based-Sentiment-Extraction\\\\data\\\\clean_test.csv'"
   ]
  },
  {
   "cell_type": "code",
   "execution_count": 54,
   "metadata": {},
   "outputs": [],
   "source": [
    "train_df = pd.read_csv(clean_train_path)\n",
    "#test_df = pd.read_csv(clean_test_path)"
   ]
  },
  {
   "cell_type": "code",
   "execution_count": 55,
   "metadata": {
    "id": "SBrbftD2M-cS"
   },
   "outputs": [],
   "source": [
    "import transformers as tr"
   ]
  },
  {
   "cell_type": "code",
   "execution_count": 56,
   "metadata": {
    "id": "TwZYXHFFNBRt"
   },
   "outputs": [],
   "source": [
    "#model_class, tokenizer_class, pretrained_weights = (tr.DistilBertModel, tr.DistilBertTokenizer, 'distilbert-base-uncased')\n",
    "\n",
    "## For regular BERT:\n",
    "model_class, tokenizer_class, pretrained_weights = (tr.BertModel, tr.BertTokenizer, 'bert-base-cased')\n",
    "\n",
    "# Load pretrained model/tokenizer\n",
    "tokenizer = tokenizer_class.from_pretrained(pretrained_weights)\n",
    "#model = model_class.from_pretrained(pretrained_weights)"
   ]
  },
  {
   "cell_type": "code",
   "execution_count": 57,
   "metadata": {},
   "outputs": [
    {
     "data": {
      "text/plain": [
       "[101, 8667, 117, 1293, 1132, 1128, 136, 102]"
      ]
     },
     "execution_count": 57,
     "metadata": {},
     "output_type": "execute_result"
    }
   ],
   "source": [
    "tokens = tokenizer.encode(\"Hello, how are you?\", max_length=512, truncation=True)\n",
    "tokens"
   ]
  },
  {
   "cell_type": "code",
   "execution_count": 58,
   "metadata": {
    "colab": {
     "base_uri": "https://localhost:8080/"
    },
    "id": "LCWAOx4XzTan",
    "outputId": "41efd72c-c733-4779-843c-00fab5f7fff1"
   },
   "outputs": [
    {
     "name": "stderr",
     "output_type": "stream",
     "text": [
      "Truncation was not explicitly activated but `max_length` is provided a specific value, please use `truncation=True` to explicitly truncate examples to max length. Defaulting to 'longest_first' truncation strategy. If you encode pairs of sequences (GLUE-style) with the tokenizer you can select this strategy more precisely by providing a specific strategy to `truncation`.\n"
     ]
    }
   ],
   "source": [
    "# for distribution of the length of the tokens of train data text\n",
    "\n",
    "import logging\n",
    "logging.basicConfig(level=logging.ERROR) \n",
    "\n",
    "train_token_lens = []\n",
    "for txt in train_df.cleaned_text:\n",
    "    tokens = tokenizer.encode(txt, max_length = 512)\n",
    "    train_token_lens.append(len(tokens))"
   ]
  },
  {
   "cell_type": "code",
   "execution_count": 59,
   "metadata": {
    "colab": {
     "base_uri": "https://localhost:8080/",
     "height": 282
    },
    "id": "_hsXensh0U-T",
    "outputId": "a256af99-c7c7-4eaa-979d-5acd42428e68"
   },
   "outputs": [
    {
     "data": {
      "text/plain": [
       "<seaborn.axisgrid.FacetGrid at 0x1435468da80>"
      ]
     },
     "execution_count": 59,
     "metadata": {},
     "output_type": "execute_result"
    },
    {
     "data": {
      "image/png": "[encoded data removed]",
      "text/plain": [
       "<Figure size 500x500 with 1 Axes>"
      ]
     },
     "metadata": {},
     "output_type": "display_data"
    }
   ],
   "source": [
    "sns.displot(train_token_lens, kind='kde')"
   ]
  },
  {
   "cell_type": "code",
   "execution_count": 60,
   "metadata": {
    "colab": {
     "base_uri": "https://localhost:8080/"
    },
    "id": "q3UoXo-2N64B",
    "outputId": "76036a38-653b-4547-93d3-313d25c7cf47"
   },
   "outputs": [
    {
     "data": {
      "text/plain": [
       "303"
      ]
     },
     "execution_count": 60,
     "metadata": {},
     "output_type": "execute_result"
    }
   ],
   "source": [
    "max(train_token_lens)"
   ]
  },
  {
   "cell_type": "code",
   "execution_count": 61,
   "metadata": {
    "id": "G5U8RkFs0g5W"
   },
   "outputs": [],
   "source": [
    "# for distribution of the length of the tokens of test data text\n",
    "\n",
    "logging.basicConfig(level=logging.ERROR)\n",
    "\n",
    "test_token_lens = []\n",
    "for txt in test_df['cleaned_text']:\n",
    "    tokens = tokenizer.encode(txt, max_length = 512)\n",
    "    test_token_lens.append(len(tokens))"
   ]
  },
  {
   "cell_type": "code",
   "execution_count": 62,
   "metadata": {
    "colab": {
     "base_uri": "https://localhost:8080/",
     "height": 282
    },
    "id": "6kCtMgAN04Cl",
    "outputId": "34dac699-5c68-44fe-d474-60fed81afb08"
   },
   "outputs": [
    {
     "data": {
      "text/plain": [
       "<Axes: ylabel='Count'>"
      ]
     },
     "execution_count": 62,
     "metadata": {},
     "output_type": "execute_result"
    },
    {
     "data": {
      "image/png": "[encoded data removed]",
      "text/plain": [
       "<Figure size 640x480 with 1 Axes>"
      ]
     },
     "metadata": {},
     "output_type": "display_data"
    }
   ],
   "source": [
    "sns.histplot(test_token_lens, kde=True)"
   ]
  },
  {
   "cell_type": "code",
   "execution_count": 63,
   "metadata": {
    "colab": {
     "base_uri": "https://localhost:8080/"
    },
    "id": "_ijMMuSO2Wie",
    "outputId": "04d3c15e-578f-4b2d-d389-003b81cfeb70"
   },
   "outputs": [
    {
     "data": {
      "text/plain": [
       "365"
      ]
     },
     "execution_count": 63,
     "metadata": {},
     "output_type": "execute_result"
    }
   ],
   "source": [
    "max(test_token_lens)"
   ]
  },
  {
   "cell_type": "code",
   "execution_count": 64,
   "metadata": {
    "id": "RAEU-kWXZXmZ"
   },
   "outputs": [],
   "source": [
    "# building up the custom dataset class for our datset\n",
    "class ABSA_Dataset(Dataset):\n",
    "    def __init__(self, texts, aspects, targets, tokenizer, max_len):\n",
    "        self.texts = texts\n",
    "        self.aspects = aspects\n",
    "        self.targets = targets\n",
    "        self.tokenizer = tokenizer\n",
    "        self.max_len = max_len\n",
    "\n",
    "\n",
    "    def __len__(self):\n",
    "        return len(self.texts)\n",
    "\n",
    "\n",
    "    def __getitem__(self, index):\n",
    "        text = str(self.texts[index])\n",
    "        aspect = str(self.aspects[index])\n",
    "        target = self.targets[index]\n",
    "        \n",
    "        encoding = self.tokenizer(\n",
    "          text,\n",
    "          aspect,\n",
    "          add_special_tokens = True,\n",
    "          max_length = self.max_len,\n",
    "          return_token_type_ids = False,\n",
    "          padding = 'max_length',\n",
    "          truncation = True,\n",
    "          return_attention_mask = True,\n",
    "          return_tensors = 'pt',\n",
    "        )\n",
    "\n",
    "        return {\n",
    "          'text': text,\n",
    "          'aspect': aspect,\n",
    "          'input_ids': encoding['input_ids'].flatten(),  # from torch.Size([1,max_len]) to torch.Size([max_len])\n",
    "          'attention_mask': encoding['attention_mask'].flatten(),\n",
    "          'targets': torch.tensor(target, dtype=torch.long)\n",
    "        }"
   ]
  },
  {
   "cell_type": "code",
   "execution_count": 65,
   "metadata": {},
   "outputs": [],
   "source": [
    "def regular_train_test_split(train_df):\n",
    "    \n",
    "    df_train, df_test = train_test_split(\n",
    "      train_df,\n",
    "      test_size=conf.TRAIN_VAL_SPLIT,\n",
    "      random_state=conf.RANDOM_SEED\n",
    "    )\n",
    "\n",
    "    df_val, df_test = train_test_split(\n",
    "      df_test,\n",
    "      test_size=conf.VAL_TEST_SPLIT,\n",
    "      random_state=conf.RANDOM_SEED\n",
    "    )\n",
    "    \n",
    "    return df_train, df_val, df_test"
   ]
  },
  {
   "cell_type": "code",
   "execution_count": 66,
   "metadata": {},
   "outputs": [],
   "source": [
    "def define_folds(df):\n",
    "    \n",
    "    df[\"kfold\"] = -1\n",
    "    df = df.sample(frac=1).reset_index(drop=True)\n",
    "    y = df.label.values\n",
    "    kf = model_selection.StratifiedKFold(n_splits=5)\n",
    "    \n",
    "    for f, (t_, v_) in enumerate(kf.split(X=df, y=y)):\n",
    "        df.loc[v_, 'kfold'] = f\n",
    "    \n",
    "    df.to_csv(f'{conf.data_path}/train_folds.csv', index=False)\n",
    "        \n",
    "    return df"
   ]
  },
  {
   "cell_type": "code",
   "execution_count": 67,
   "metadata": {},
   "outputs": [],
   "source": [
    "train_df = define_folds(train_df)"
   ]
  },
  {
   "cell_type": "code",
   "execution_count": 68,
   "metadata": {},
   "outputs": [
    {
     "data": {
      "text/html": [
       "<div>\n",
       "<style scoped>\n",
       "    .dataframe tbody tr th:only-of-type {\n",
       "        vertical-align: middle;\n",
       "    }\n",
       "\n",
       "    .dataframe tbody tr th {\n",
       "        vertical-align: top;\n",
       "    }\n",
       "\n",
       "    .dataframe thead th {\n",
       "        text-align: right;\n",
       "    }\n",
       "</style>\n",
       "<table border=\"1\" class=\"dataframe\">\n",
       "  <thead>\n",
       "    <tr style=\"text-align: right;\">\n",
       "      <th></th>\n",
       "      <th>text</th>\n",
       "      <th>aspect</th>\n",
       "      <th>cleaned_text</th>\n",
       "      <th>cleaned_aspect</th>\n",
       "      <th>label</th>\n",
       "      <th>kfold</th>\n",
       "    </tr>\n",
       "  </thead>\n",
       "  <tbody>\n",
       "    <tr>\n",
       "      <th>0</th>\n",
       "      <td>introduction of delivery fees per pack of milk delivery paves way for customers to buy directly from shops or milk vendor delivery</td>\n",
       "      <td>delivery fees</td>\n",
       "      <td>introduction of delivery fees per pack of milk delivery paves way for customers to buy directly from shops or milk vendor delivery</td>\n",
       "      <td>delivery fees</td>\n",
       "      <td>0</td>\n",
       "      <td>0</td>\n",
       "    </tr>\n",
       "    <tr>\n",
       "      <th>1</th>\n",
       "      <td>notion evolution templates and videos #notion, @notionhq, #productivity</td>\n",
       "      <td>Templates</td>\n",
       "      <td>notion evolution templates and videos notion  productivity</td>\n",
       "      <td>Templates</td>\n",
       "      <td>2</td>\n",
       "      <td>0</td>\n",
       "    </tr>\n",
       "    <tr>\n",
       "      <th>2</th>\n",
       "      <td>ah-ha, i am talking about like 10 usd here:)</td>\n",
       "      <td>USD</td>\n",
       "      <td>ahha i am talking about like 10 usd here</td>\n",
       "      <td>USD</td>\n",
       "      <td>1</td>\n",
       "      <td>0</td>\n",
       "    </tr>\n",
       "    <tr>\n",
       "      <th>3</th>\n",
       "      <td>hi, thamirys sorry about this, we just updated to the latest version of katex to add support for more amsthm environments that might affect some structure including the color.</td>\n",
       "      <td>color</td>\n",
       "      <td>hi thamirys sorry about this we just updated to the latest version of katex to add support for more amsthm environments that might affect some structure including the color</td>\n",
       "      <td>color</td>\n",
       "      <td>0</td>\n",
       "      <td>0</td>\n",
       "    </tr>\n",
       "    <tr>\n",
       "      <th>4</th>\n",
       "      <td>exelent app, it has helped me get all of my notes and ideas in place.</td>\n",
       "      <td>notes</td>\n",
       "      <td>exelent app it has helped me get all of my notes and ideas in place</td>\n",
       "      <td>notes</td>\n",
       "      <td>2</td>\n",
       "      <td>0</td>\n",
       "    </tr>\n",
       "    <tr>\n",
       "      <th>...</th>\n",
       "      <td>...</td>\n",
       "      <td>...</td>\n",
       "      <td>...</td>\n",
       "      <td>...</td>\n",
       "      <td>...</td>\n",
       "      <td>...</td>\n",
       "    </tr>\n",
       "    <tr>\n",
       "      <th>3995</th>\n",
       "      <td>but allows me to quickly check my pages, my other wish would be that it load faster.</td>\n",
       "      <td>load</td>\n",
       "      <td>but allows me to quickly check my pages my other wish would be that it load faster</td>\n",
       "      <td>load</td>\n",
       "      <td>0</td>\n",
       "      <td>4</td>\n",
       "    </tr>\n",
       "    <tr>\n",
       "      <th>3996</th>\n",
       "      <td>i uv received rotten vegetables and fruits and stale bread.</td>\n",
       "      <td>fruits</td>\n",
       "      <td>i uv received rotten vegetables and fruits and stale bread</td>\n",
       "      <td>fruits</td>\n",
       "      <td>0</td>\n",
       "      <td>4</td>\n",
       "    </tr>\n",
       "    <tr>\n",
       "      <th>3997</th>\n",
       "      <td>no customization on toolbar.</td>\n",
       "      <td>customization</td>\n",
       "      <td>no customization on toolbar</td>\n",
       "      <td>customization</td>\n",
       "      <td>0</td>\n",
       "      <td>4</td>\n",
       "    </tr>\n",
       "    <tr>\n",
       "      <th>3998</th>\n",
       "      <td>great app, but can sometimes take too long to load (5s +).</td>\n",
       "      <td>load</td>\n",
       "      <td>great app but can sometimes take too long to load 5s</td>\n",
       "      <td>load</td>\n",
       "      <td>0</td>\n",
       "      <td>4</td>\n",
       "    </tr>\n",
       "    <tr>\n",
       "      <th>3999</th>\n",
       "      <td>delivery to be improve in rainy season</td>\n",
       "      <td>Delivery</td>\n",
       "      <td>delivery to be improve in rainy season</td>\n",
       "      <td>Delivery</td>\n",
       "      <td>0</td>\n",
       "      <td>4</td>\n",
       "    </tr>\n",
       "  </tbody>\n",
       "</table>\n",
       "<p>4000 rows × 6 columns</p>\n",
       "</div>"
      ],
      "text/plain": [
       "                                                                                                                                                                                 text  \\\n",
       "0                                                  introduction of delivery fees per pack of milk delivery paves way for customers to buy directly from shops or milk vendor delivery   \n",
       "1                                                                                                             notion evolution templates and videos #notion, @notionhq, #productivity   \n",
       "2                                                                                                                                        ah-ha, i am talking about like 10 usd here:)   \n",
       "3     hi, thamirys sorry about this, we just updated to the latest version of katex to add support for more amsthm environments that might affect some structure including the color.   \n",
       "4                                                                                                               exelent app, it has helped me get all of my notes and ideas in place.   \n",
       "...                                                                                                                                                                               ...   \n",
       "3995                                                                                             but allows me to quickly check my pages, my other wish would be that it load faster.   \n",
       "3996                                                                                                                      i uv received rotten vegetables and fruits and stale bread.   \n",
       "3997                                                                                                                                                     no customization on toolbar.   \n",
       "3998                                                                                                                       great app, but can sometimes take too long to load (5s +).   \n",
       "3999                                                                                                                                           delivery to be improve in rainy season   \n",
       "\n",
       "             aspect  \\\n",
       "0     delivery fees   \n",
       "1         Templates   \n",
       "2               USD   \n",
       "3             color   \n",
       "4             notes   \n",
       "...             ...   \n",
       "3995           load   \n",
       "3996         fruits   \n",
       "3997  customization   \n",
       "3998           load   \n",
       "3999       Delivery   \n",
       "\n",
       "                                                                                                                                                                      cleaned_text  \\\n",
       "0                                               introduction of delivery fees per pack of milk delivery paves way for customers to buy directly from shops or milk vendor delivery   \n",
       "1                                                                                                                       notion evolution templates and videos notion  productivity   \n",
       "2                                                                                                                                         ahha i am talking about like 10 usd here   \n",
       "3     hi thamirys sorry about this we just updated to the latest version of katex to add support for more amsthm environments that might affect some structure including the color   \n",
       "4                                                                                                              exelent app it has helped me get all of my notes and ideas in place   \n",
       "...                                                                                                                                                                            ...   \n",
       "3995                                                                                            but allows me to quickly check my pages my other wish would be that it load faster   \n",
       "3996                                                                                                                    i uv received rotten vegetables and fruits and stale bread   \n",
       "3997                                                                                                                                                   no customization on toolbar   \n",
       "3998                                                                                                                         great app but can sometimes take too long to load 5s    \n",
       "3999                                                                                                                                        delivery to be improve in rainy season   \n",
       "\n",
       "     cleaned_aspect  label  kfold  \n",
       "0     delivery fees      0      0  \n",
       "1         Templates      2      0  \n",
       "2               USD      1      0  \n",
       "3             color      0      0  \n",
       "4             notes      2      0  \n",
       "...             ...    ...    ...  \n",
       "3995           load      0      4  \n",
       "3996         fruits      0      4  \n",
       "3997  customization      0      4  \n",
       "3998           load      0      4  \n",
       "3999       Delivery      0      4  \n",
       "\n",
       "[4000 rows x 6 columns]"
      ]
     },
     "execution_count": 68,
     "metadata": {},
     "output_type": "execute_result"
    }
   ],
   "source": [
    "train_df"
   ]
  },
  {
   "cell_type": "code",
   "execution_count": 69,
   "metadata": {},
   "outputs": [],
   "source": [
    "fold = 0"
   ]
  },
  {
   "cell_type": "code",
   "execution_count": 70,
   "metadata": {},
   "outputs": [],
   "source": [
    "df_train = train_df[train_df['kfold'] != fold]\n",
    "df_val = train_df[train_df['kfold'] == fold]"
   ]
  },
  {
   "cell_type": "code",
   "execution_count": 71,
   "metadata": {
    "id": "4JoR7Pop9Gxq"
   },
   "outputs": [],
   "source": [
    "# function for creating dataloaders for train and test datasets\n",
    "\n",
    "def create_dataloader(df, tokenizer, max_len, batch_size, shuffle=False):\n",
    "    \n",
    "    dataset = ABSA_Dataset(\n",
    "        texts = df.cleaned_text.to_numpy(),\n",
    "        aspects = df.cleaned_aspect.to_numpy(),\n",
    "        targets = df.label.to_numpy(),\n",
    "        tokenizer = tokenizer,\n",
    "        max_len = max_len\n",
    "      )\n",
    "\n",
    "    dataloader = DataLoader(dataset, batch_size = batch_size, num_workers = conf.num_workers, shuffle = shuffle)\n",
    "    return dataloader"
   ]
  },
  {
   "cell_type": "code",
   "execution_count": 72,
   "metadata": {},
   "outputs": [
    {
     "data": {
      "text/plain": [
       "numpy.ndarray"
      ]
     },
     "execution_count": 72,
     "metadata": {},
     "output_type": "execute_result"
    }
   ],
   "source": [
    "type(test_df['cleaned_text'].to_numpy())"
   ]
  },
  {
   "cell_type": "code",
   "execution_count": 73,
   "metadata": {},
   "outputs": [],
   "source": [
    "def return_tokenizer():\n",
    "    \n",
    "    if conf.bert_base_model:\n",
    "        if conf.case_based_model:\n",
    "            tokenizer = tr.BertTokenizer.from_pretrained('bert-base-cased')\n",
    "        else:\n",
    "             tokenizer = tr.BertTokenizer.from_pretrained('bert-base-uncased')\n",
    "    else:\n",
    "        if conf.case_based_model:\n",
    "            tokenizer = tr.DistilBertTokenizer.from_pretrained('distilbert-base-cased')\n",
    "        else:\n",
    "            tokenizer = tr.DistilBertTokenizer.from_pretrained('distilbert-base-uncased')\n",
    "        \n",
    "    return tokenizer"
   ]
  },
  {
   "cell_type": "code",
   "execution_count": 74,
   "metadata": {},
   "outputs": [],
   "source": [
    "tokenizer = return_tokenizer()"
   ]
  },
  {
   "cell_type": "code",
   "execution_count": 75,
   "metadata": {
    "id": "1hrXP3hCLJ9p"
   },
   "outputs": [],
   "source": [
    "# setting up the train and validation dataloaders\n",
    "train_dataloader = create_dataloader(df_train, tokenizer, conf.MAX_LEN, conf.BATCH_SIZE, conf.train_shuffle)\n",
    "val_dataloader = create_dataloader(df_val, tokenizer, conf.MAX_LEN, conf.BATCH_SIZE, conf.train_shuffle)\n",
    "#test_dataloader = create_dataloader(df_test, tokenizer, conf.MAX_LEN, conf.BATCH_SIZE, conf.valid_shuffle)"
   ]
  },
  {
   "cell_type": "code",
   "execution_count": 76,
   "metadata": {
    "colab": {
     "base_uri": "https://localhost:8080/"
    },
    "id": "5Y4dGCZT9G8P",
    "outputId": "9df33ba0-0991-4d5b-a448-09f2eb306360"
   },
   "outputs": [
    {
     "data": {
      "text/plain": [
       "dict_keys(['text', 'aspect', 'input_ids', 'attention_mask', 'targets'])"
      ]
     },
     "execution_count": 76,
     "metadata": {},
     "output_type": "execute_result"
    }
   ],
   "source": [
    "data = next(iter(train_dataloader))\n",
    "data.keys()"
   ]
  },
  {
   "cell_type": "code",
   "execution_count": 77,
   "metadata": {},
   "outputs": [],
   "source": [
    "import pandas as pd\n",
    "\n",
    "# Reset all display options to default\n",
    "pd.reset_option('display.max_rows')\n",
    "pd.reset_option('display.max_columns')\n",
    "pd.reset_option('display.max_colwidth')"
   ]
  },
  {
   "cell_type": "code",
   "execution_count": 78,
   "metadata": {
    "colab": {
     "base_uri": "https://localhost:8080/"
    },
    "id": "r5XztTdtKLzL",
    "outputId": "3480479c-4a7a-45f0-e0cd-b40cc180e2a9"
   },
   "outputs": [
    {
     "name": "stdout",
     "output_type": "stream",
     "text": [
      "torch.Size([4, 250])\n",
      "torch.Size([4, 250])\n",
      "torch.Size([4])\n"
     ]
    }
   ],
   "source": [
    "# example batch from out training dataloader\n",
    "\n",
    "print(data['input_ids'].shape)\n",
    "print(data['attention_mask'].shape)\n",
    "print(data['targets'].shape)"
   ]
  },
  {
   "cell_type": "code",
   "execution_count": 79,
   "metadata": {
    "colab": {
     "base_uri": "https://localhost:8080/"
    },
    "id": "eWIUgmmpP1Px",
    "outputId": "037236b9-d5cd-49e2-8883-8496a63e5d25",
    "scrolled": true
   },
   "outputs": [
    {
     "data": {
      "text/plain": [
       "tensor([  101,  1142, 12647, 22797,   102, 12647,   102,     0,     0,     0,\n",
       "            0,     0,     0,     0,     0,     0,     0,     0,     0,     0,\n",
       "            0,     0,     0,     0,     0,     0,     0,     0,     0,     0,\n",
       "            0,     0,     0,     0,     0,     0,     0,     0,     0,     0,\n",
       "            0,     0,     0,     0,     0,     0,     0,     0,     0,     0,\n",
       "            0,     0,     0,     0,     0,     0,     0,     0,     0,     0,\n",
       "            0,     0,     0,     0,     0,     0,     0,     0,     0,     0,\n",
       "            0,     0,     0,     0,     0,     0,     0,     0,     0,     0,\n",
       "            0,     0,     0,     0,     0,     0,     0,     0,     0,     0,\n",
       "            0,     0,     0,     0,     0,     0,     0,     0,     0,     0,\n",
       "            0,     0,     0,     0,     0,     0,     0,     0,     0,     0,\n",
       "            0,     0,     0,     0,     0,     0,     0,     0,     0,     0,\n",
       "            0,     0,     0,     0,     0,     0,     0,     0,     0,     0,\n",
       "            0,     0,     0,     0,     0,     0,     0,     0,     0,     0,\n",
       "            0,     0,     0,     0,     0,     0,     0,     0,     0,     0,\n",
       "            0,     0,     0,     0,     0,     0,     0,     0,     0,     0,\n",
       "            0,     0,     0,     0,     0,     0,     0,     0,     0,     0,\n",
       "            0,     0,     0,     0,     0,     0,     0,     0,     0,     0,\n",
       "            0,     0,     0,     0,     0,     0,     0,     0,     0,     0,\n",
       "            0,     0,     0,     0,     0,     0,     0,     0,     0,     0,\n",
       "            0,     0,     0,     0,     0,     0,     0,     0,     0,     0,\n",
       "            0,     0,     0,     0,     0,     0,     0,     0,     0,     0,\n",
       "            0,     0,     0,     0,     0,     0,     0,     0,     0,     0,\n",
       "            0,     0,     0,     0,     0,     0,     0,     0,     0,     0,\n",
       "            0,     0,     0,     0,     0,     0,     0,     0,     0,     0])"
      ]
     },
     "execution_count": 79,
     "metadata": {},
     "output_type": "execute_result"
    }
   ],
   "source": [
    "data['input_ids'][0]"
   ]
  },
  {
   "cell_type": "markdown",
   "metadata": {
    "id": "04TfPb5JjYr2"
   },
   "source": [
    "### Defining The Model"
   ]
  },
  {
   "cell_type": "code",
   "execution_count": 80,
   "metadata": {
    "id": "ckxLd00rTP67"
   },
   "outputs": [],
   "source": [
    "import transformers as tr\n",
    "\n",
    "class ABSA_Model(nn.Module):\n",
    "    \n",
    "    def __init__(self, dropout = 0.5):\n",
    "        super(ABSA_Model, self).__init__()\n",
    "\n",
    "        self.bert_model = tr.BertModel.from_pretrained('bert-base-cased') \n",
    "        #self.bert_model = tr.DistilBertModel.from_pretrained('distilbert-base-cased')\n",
    "        self.dropout = nn.Dropout(dropout)\n",
    "        self.fc1 = nn.Linear(768, 3)\n",
    "        #self.relu = nn.ReLU()\n",
    "        self.softmax = nn.LogSoftmax(dim=1)\n",
    "\n",
    "    def forward(self, input_ids, mask):\n",
    "\n",
    "        _, pooled_output = self.bert_model(input_ids = input_ids, attention_mask = mask, return_dict = False) # BertModel\n",
    "        # third argument in self.bert_model for avoiding this error: TypeError: dropout(): argument 'input' (position 1) must be Tensor, not str\n",
    "        # otherwise, do this:\n",
    "        #output_dict = self.bert_model(input_ids = input_ids, attention_mask = mask)\n",
    "        #last_hidden_state = output_dict['last_hidden_state']\n",
    "        #pooled_output = output_dict['pooler_output']\n",
    "        #print(outputs)\n",
    "        \n",
    "        #outputs = self.bert_model(input_ids = input_ids, attention_mask = mask) # DistilBertModel\n",
    "        # outputs is of shape (batch_size, max_seq_len, hidden_size), hidden_size here = 768\n",
    "        #pooled_output = outputs[0][:,0,:] # shape = (batch_size, 768), output corresponding to cls token for all batch_size\n",
    "                                          # number of texts\n",
    "\n",
    "        #print(pooled_output.shape)\n",
    "        x = self.dropout(pooled_output)\n",
    "        x = self.fc1(x)\n",
    "        #x = self.relu(x)\n",
    "        x = self.softmax(x)\n",
    "\n",
    "        return x"
   ]
  },
  {
   "cell_type": "code",
   "execution_count": 81,
   "metadata": {
    "id": "w6O5ResAZ4rd"
   },
   "outputs": [],
   "source": [
    "device = torch.device(\"cuda\" if torch.cuda.is_available() else \"cpu\")\n",
    "#device = torch.device('cpu')"
   ]
  },
  {
   "cell_type": "code",
   "execution_count": 82,
   "metadata": {
    "colab": {
     "base_uri": "https://localhost:8080/"
    },
    "id": "yT9Gr8Zbotli",
    "outputId": "11c8e597-f17f-4c9f-a616-803babeb8c7a"
   },
   "outputs": [
    {
     "data": {
      "text/plain": [
       "device(type='cuda')"
      ]
     },
     "execution_count": 82,
     "metadata": {},
     "output_type": "execute_result"
    }
   ],
   "source": [
    "device"
   ]
  },
  {
   "cell_type": "code",
   "execution_count": 83,
   "metadata": {
    "colab": {
     "base_uri": "https://localhost:8080/"
    },
    "id": "kJZ-68cdXBHm",
    "outputId": "d2021a71-b391-4863-95f4-47fce0e63953",
    "scrolled": true
   },
   "outputs": [],
   "source": [
    "model = ABSA_Model()\n",
    "model = model.to(device)"
   ]
  },
  {
   "cell_type": "code",
   "execution_count": 84,
   "metadata": {
    "id": "qIRTVRsBAv47"
   },
   "outputs": [],
   "source": [
    "input_ids = data['input_ids'].to(device)\n",
    "attention_mask = data['attention_mask'].to(device)"
   ]
  },
  {
   "cell_type": "code",
   "execution_count": 85,
   "metadata": {
    "colab": {
     "base_uri": "https://localhost:8080/"
    },
    "id": "CGhCutjFi8Yq",
    "outputId": "f3bed5a4-88f1-4f3a-f7de-e7aa9686faf3"
   },
   "outputs": [
    {
     "name": "stdout",
     "output_type": "stream",
     "text": [
      "torch.Size([4, 250])\n",
      "torch.Size([4, 250])\n"
     ]
    }
   ],
   "source": [
    "print(input_ids.shape) # batch size x seq length\n",
    "print(attention_mask.shape) # batch size x seq length"
   ]
  },
  {
   "cell_type": "code",
   "execution_count": 86,
   "metadata": {
    "id": "43zLNrgFjvHs"
   },
   "outputs": [],
   "source": [
    "x=model(input_ids, attention_mask)"
   ]
  },
  {
   "cell_type": "code",
   "execution_count": 87,
   "metadata": {
    "colab": {
     "base_uri": "https://localhost:8080/"
    },
    "id": "-9RgxdBWnzy0",
    "outputId": "8b545922-878f-4def-ef95-4dd4c8258352"
   },
   "outputs": [
    {
     "data": {
      "text/plain": [
       "tensor([[-0.7784, -1.2549, -1.3634],\n",
       "        [-0.8591, -1.2922, -1.1980],\n",
       "        [-1.2359, -0.8379, -1.2844],\n",
       "        [-0.5665, -2.2122, -1.1300]], device='cuda:0',\n",
       "       grad_fn=<LogSoftmaxBackward0>)"
      ]
     },
     "execution_count": 87,
     "metadata": {},
     "output_type": "execute_result"
    }
   ],
   "source": [
    "x"
   ]
  },
  {
   "cell_type": "markdown",
   "metadata": {
    "id": "XOnI7sj076_V"
   },
   "source": [
    "### Training and Validation"
   ]
  },
  {
   "cell_type": "code",
   "execution_count": 88,
   "metadata": {
    "id": "14v_MJld7-El"
   },
   "outputs": [],
   "source": [
    "optimizer = tr.AdamW(model.parameters(), lr=conf.learning_rate, correct_bias=False)\n",
    "total_steps = len(train_dataloader) * conf.EPOCHS\n",
    "\n",
    "scheduler = tr.get_linear_schedule_with_warmup(\n",
    "  optimizer,\n",
    "  num_warmup_steps=0,\n",
    "  num_training_steps=total_steps\n",
    ")\n",
    "\n",
    "loss_fn = nn.NLLLoss().to(device)"
   ]
  },
  {
   "cell_type": "code",
   "execution_count": 89,
   "metadata": {
    "id": "NvBoqVlM8q3j"
   },
   "outputs": [],
   "source": [
    "def train_fn(model, data_loader, loss_fn, optimizer, device, scheduler, n_examples):\n",
    "    \n",
    "    model = model.train()\n",
    "    losses = []\n",
    "    correct_predictions = 0\n",
    "\n",
    "    for data in data_loader:\n",
    "\n",
    "        input_ids = data[\"input_ids\"].to(device)\n",
    "        attention_mask = data[\"attention_mask\"].to(device)\n",
    "        targets = data[\"targets\"].to(device)\n",
    "\n",
    "        outputs = model(input_ids, attention_mask)\n",
    "\n",
    "        _, preds = torch.max(outputs, dim=1)\n",
    "        loss = loss_fn(outputs, targets)\n",
    "\n",
    "        correct_predictions += torch.sum(preds == targets)\n",
    "\n",
    "        losses.append(loss.item())\n",
    "        loss.backward()\n",
    "\n",
    "        nn.utils.clip_grad_norm_(model.parameters(), max_norm=1.0)\n",
    "        optimizer.step()\n",
    "        scheduler.step()\n",
    "        optimizer.zero_grad()\n",
    "\n",
    "    return correct_predictions.double() / n_examples, np.mean(losses)"
   ]
  },
  {
   "cell_type": "code",
   "execution_count": 90,
   "metadata": {
    "id": "IG67GdkX-YMz"
   },
   "outputs": [],
   "source": [
    "def eval_fn(model, data_loader, loss_fn, device, n_examples):\n",
    "    \n",
    "    model = model.eval()\n",
    "    losses = []\n",
    "    correct_predictions = 0\n",
    "\n",
    "    with torch.no_grad():\n",
    "        for data in data_loader:\n",
    "            \n",
    "            input_ids = data[\"input_ids\"].to(device)\n",
    "            attention_mask = data[\"attention_mask\"].to(device)\n",
    "            targets = data[\"targets\"].to(device)\n",
    "\n",
    "            outputs = model(input_ids, attention_mask)\n",
    "\n",
    "            _, preds = torch.max(outputs, dim=1)\n",
    "            loss = loss_fn(outputs, targets)\n",
    "\n",
    "            correct_predictions += torch.sum(preds == targets)\n",
    "\n",
    "            losses.append(loss.item())\n",
    "\n",
    "    return correct_predictions.double() / n_examples, np.mean(losses)"
   ]
  },
  {
   "cell_type": "code",
   "execution_count": 91,
   "metadata": {
    "colab": {
     "base_uri": "https://localhost:8080/"
    },
    "id": "zGhWuBjf-XbL",
    "outputId": "a76005c6-84e7-43e8-ab0d-4757c0b6bd08",
    "scrolled": true
   },
   "outputs": [
    {
     "name": "stdout",
     "output_type": "stream",
     "text": [
      "CPU times: total: 0 ns\n",
      "Wall time: 0 ns\n"
     ]
    }
   ],
   "source": [
    "%%time\n",
    "\n",
    "def execute(model, train_dataloader, val_dataloader, loss_fn, optimizer, device, scheduler, train_df_len, val_df_len):\n",
    "    history = defaultdict(list)\n",
    "    best_accuracy = 0\n",
    "\n",
    "    for epoch in range(conf.EPOCHS):\n",
    "\n",
    "        print(f'Epoch {epoch + 1}/{conf.EPOCHS}')\n",
    "        print('-' * 10)\n",
    "\n",
    "        train_acc, train_loss = train_fn(model, train_dataloader, loss_fn, optimizer, device, scheduler, train_df_len)\n",
    "\n",
    "        print(f'Train loss: {train_loss}, Train Accuracy: {train_acc*100}')\n",
    "\n",
    "        val_acc, val_loss = eval_fn(model, val_dataloader, loss_fn, device, val_df_len)\n",
    "\n",
    "        print(f'Validation loss: {val_loss}, Validation Accuracy: {val_acc*100}')\n",
    "        print()\n",
    "\n",
    "        history['train_acc'].append(train_acc)\n",
    "        history['train_loss'].append(train_loss)\n",
    "        history['val_acc'].append(val_acc)\n",
    "        history['val_loss'].append(val_loss)\n",
    "\n",
    "        if val_acc > best_accuracy:\n",
    "            torch.save(model.state_dict(), f'{conf.model_save_path}/best_model_state.bin')\n",
    "            best_accuracy = val_acc\n",
    "        \n",
    "    print('Execution Complete')\n",
    "    print('-' * 10)\n",
    "\n",
    "    return history"
   ]
  },
  {
   "cell_type": "code",
   "execution_count": 92,
   "metadata": {},
   "outputs": [],
   "source": [
    "tr.logging.set_verbosity_error()"
   ]
  },
  {
   "cell_type": "code",
   "execution_count": 93,
   "metadata": {},
   "outputs": [],
   "source": [
    "torch.cuda.empty_cache()\n"
   ]
  },
  {
   "cell_type": "code",
   "execution_count": 94,
   "metadata": {
    "colab": {
     "base_uri": "https://localhost:8080/",
     "height": 380
    },
    "id": "OJBRaDmZBC-o",
    "outputId": "29c62912-3f37-43f0-98b2-5b3c83507f49",
    "scrolled": true
   },
   "outputs": [],
   "source": [
    "# history = execute(model, train_dataloader, val_dataloader, loss_fn, optimizer, device, scheduler, len(df_train), len(df_val))"
   ]
  },
  {
   "cell_type": "code",
   "execution_count": 95,
   "metadata": {
    "scrolled": true
   },
   "outputs": [
    {
     "name": "stdout",
     "output_type": "stream",
     "text": [
      "!python -m spacy download en_core_web_sm\n",
      "# model_requirements:\n",
      "import torch\n",
      "import torchvision\n",
      "import torch.nn as nn\n",
      "import torch.optim as optim\n",
      "import torch.nn.functional as F\n",
      "from torch.utils.data import Dataset, DataLoader\n",
      "import transformers as tr\n",
      "\n",
      "from sklearn import model_selection\n",
      "from sklearn.model_selection import train_test_split\n",
      "from sklearn.metrics import confusion_matrix, classification_report\n",
      "\n",
      "# math_and_basic_requirements:\n",
      "import numpy as np\n",
      "from collections import defaultdict\n",
      "from collections import  Counter\n",
      "\n",
      "# analytic_requirements:\n",
      "import pandas as pd\n",
      "import matplotlib.pyplot as plt\n",
      "import seaborn as sns\n",
      "plt.style.use('ggplot')\n",
      "%matplotlib inline\n",
      "\n",
      "# language_requirements:\n",
      "import re\n",
      "import string\n",
      "import spacy\n",
      "\n",
      "# misc:\n",
      "import warnings\n",
      "warnings.filterwarnings('ignore')\n",
      "import tqdm as tqdm\n",
      "import os\n",
      "from textwrap import wrap\n",
      "nlp=spacy.load('en_core_web_sm')\n",
      "os.getcwd()\n",
      "path = os.getcwd()[:-10]\n",
      "path  # path to the absa folder\n",
      "# configuration class for hyperparameters and other configurations\n",
      "\n",
      "class Config:\n",
      "\n",
      "      def __init__(self):\n",
      "\n",
      "        # general hyperparameters\n",
      "        self.MAX_LEN = 250\n",
      "        self.BATCH_SIZE = 4\n",
      "        self.EPOCHS = 20\n",
      "        self.learning_rate = 0.00001\n",
      "        \n",
      "        # train, val and test split ratios (when using train_test_split of scikit learn)\n",
      "        self.TRAIN_VAL_SPLIT = 0.3\n",
      "        self.VAL_TEST_SPLIT = 0.5\n",
      "\n",
      "        # paths\n",
      "        #self.path = os.getcwd()[:-10]\n",
      "        self.data_path = f'{path}/data'\n",
      "        self.train_file_path = f'{path}/data/train.csv'\n",
      "        self.test_file_path = f'{path}/data/results/test.csv'\n",
      "        self.model_save_path = f'{path}/models'\n",
      "        self.results_save_path = f'{path}/data/results'\n",
      "\n",
      "        # model types\n",
      "        self.bert_base_model = True # if want to use the BertModel, otherwise DistilBertModel\n",
      "        self.case_based_model = True # if want to use the cased or uncased version\n",
      "\n",
      "        # others\n",
      "        self.num_workers = 0\n",
      "        self.RANDOM_SEED = 43\n",
      "        self.train_shuffle = True\n",
      "        self.valid_shuffle = False\n",
      "        self.device = torch.device(\"cuda\" if torch.cuda.is_available() else \"cpu\")\n",
      "conf = Config()\n",
      "print(conf.data_path)\n",
      "# reading the training and the testing files\n",
      "train_df = pd.read_csv(conf.train_file_path)\n",
      "test_df = pd.read_csv(conf.test_file_path)\n",
      "# to make dataframe take up the whole width of the screen\n",
      "pd.set_option('display.max_colwidth', None)\n",
      "train_df.head()\n",
      "train_df['label'].value_counts()\n",
      "test_df.head()\n",
      "print(f'Size of the train data: {len(train_df)}')\n",
      "print(f'Size of test data: {len(test_df)}')\n",
      "# class distribution of positive and negative classes\n",
      "ax=sns.countplot(x='label',data=train_df)\n",
      "ax.set_xticklabels([f'Negative: {len(train_df.loc[train_df[\"label\"]==0])}',f'Neutral: {len(train_df.loc[train_df[\"label\"]==1])}', f'Positive: {len(train_df.loc[train_df[\"label\"]==2])}'])\n",
      "# are there any null rows in train data\n",
      "null_train_entries=train_df['text'].isnull().sum()\n",
      "print(null_train_entries)\n",
      "print(f'{null_train_entries/len(train_df)*100:.2f} % of keyowrds values are missing in train data')\n",
      "print()\n",
      "\n",
      "# are there any null rows in test data\n",
      "null_test_entries=test_df['text'].isnull().sum()\n",
      "print(null_test_entries)\n",
      "print(f'{null_test_entries/len(test_df)*100:.2f} % of keyowrds values are missing in test data')\n",
      "# create temporary corpus for analysing punctuations and stopwords:\n",
      "def temporary_corpus(target):\n",
      "    corpus=[]\n",
      "    \n",
      "    for text in train_df[train_df['label']==target]['text'].str.split():\n",
      "        for i in text:\n",
      "            corpus.append(i)\n",
      "    return corpus\n",
      "# special\n",
      "# analyzing punctuation for Positive(2) sentiment class:\n",
      "plt.figure(figsize=(10,5))\n",
      "corpus=temporary_corpus(2)\n",
      "\n",
      "dic=defaultdict(int) # dictionary where missing keys are automatically initialized to 0\n",
      "special = string.punctuation\n",
      "for token in corpus:\n",
      "    for character in token:\n",
      "        if character in special:\n",
      "            dic[character]+=1\n",
      "        \n",
      "x,y=zip(*dic.items())\n",
      "plt.bar(x,y, color='g', hatch='/')\n",
      "# analyzing punctuation for Negative (1) sentiment class:\n",
      "plt.figure(figsize=(10,5))\n",
      "corpus=temporary_corpus(1)\n",
      "\n",
      "dic=defaultdict(int)\n",
      "special = string.punctuation\n",
      "for token in corpus:\n",
      "    for character in token:\n",
      "        if character in special:\n",
      "            dic[character]+=1\n",
      "        \n",
      "x,y=zip(*dic.items())\n",
      "plt.bar(x,y, color='purple', hatch='o')\n",
      "# analyzing punctuation for Neutral (0) sentiment class:\n",
      "plt.figure(figsize=(10,5))\n",
      "corpus=temporary_corpus(0)\n",
      "\n",
      "dic=defaultdict(int)\n",
      "special = string.punctuation\n",
      "for token in corpus:\n",
      "    for character in token:\n",
      "        if character in special:\n",
      "            dic[character]+=1\n",
      "        \n",
      "x,y=zip(*dic.items())\n",
      "plt.bar(x,y, color='c', hatch='-')\n",
      "def frequent_stopwords(label):\n",
      "    corpus=temporary_corpus(label)\n",
      "\n",
      "    dic=defaultdict(int)\n",
      "    for word in corpus:\n",
      "        if word in nlp.Defaults.stop_words:\n",
      "            dic[word]+=1\n",
      "\n",
      "    # getting the top 10 most frequent stop words        \n",
      "    top=sorted(dic.items(), key=lambda x:x[1],reverse=True)[:10]\n",
      "\n",
      "    return top, dic\n",
      "# stop words for positive class\n",
      "top, dic = frequent_stopwords(2)\n",
      " dic #dictionary containing stop word counts in postive class\n",
      "top\n",
      "print(f'Total number of stop words in spacy: {len(nlp.Defaults.stop_words)}')\n",
      "print(f'Total number of stop words in our disaster class which are part of the spacy\\'s stop words list: {len(dic)}')\n",
      "# top 10 most frequent stop words in our corpus:\n",
      "x,y=zip(*top)\n",
      "plt.bar(x,y, hatch='o')\n",
      "# stop words for negative class\n",
      "top, dic = frequent_stopwords(1)\n",
      "print(f'Total number of stop words in spacy: {len(nlp.Defaults.stop_words)}')\n",
      "print(f'Total number of stop words in our disaster class which are part of the spacy\\'s stop words list: {len(dic)}')\n",
      "# top 10 most frequent stop words in our corpus:\n",
      "x,y=zip(*top)\n",
      "plt.bar(x,y, color='orange', hatch='x')\n",
      "# stop words for neutral class\n",
      "top, dic = frequent_stopwords(0)\n",
      "top\n",
      "print(f'Total number of stop words in spacy: {len(nlp.Defaults.stop_words)}')\n",
      "print(f'Total number of stop words in our disaster class which are part of the spacy\\'s stop words list: {len(dic)}')\n",
      "# top 10 most frequent stop words in our corpus:\n",
      "x,y=zip(*top)\n",
      "plt.bar(x,y, color='green', hatch='|')\n",
      "feature = 'mention_count'\n",
      "train_df[feature] = train_df['text'].apply(lambda x: len([ch for ch in str(x) if ch == '@']))\n",
      "test_df[feature] = test_df['text'].apply(lambda x: len([ch for ch in str(x) if ch == '@']))\n",
      "print(len(train_df[feature].unique()))\n",
      "print(len(test_df[feature].unique()))\n",
      "feature='count_of_hashtags'\n",
      "train_df[feature] = train_df['text'].apply(lambda x: len([ch for ch in str(x) if ch == '#']))\n",
      "test_df[feature] = test_df['text'].apply(lambda x: len([ch for ch in str(x) if ch == '#']))\n",
      "print(len(train_df[feature].unique()))\n",
      "print(len(test_df[feature].unique()))\n",
      "feature='count_of_urls'\n",
      "train_df[feature] = train_df['text'].apply(lambda x: len([word for word in str(x).lower().split() if 'http' in word or 'https' in word]))\n",
      "test_df[feature] = test_df['text'].apply(lambda x: len([word for word in str(x).lower().split() if 'http' in word or 'https' in word]))\n",
      "print(len(train_df[feature].unique()))\n",
      "print(len(test_df[feature].unique()))\n",
      "print(train_df['aspect'].unique().shape)\n",
      "print(test_df['aspect'].unique().shape)\n",
      "# minor preprocessing of the text\n",
      "def preprocess_text(doc):\n",
      "    \n",
      "    # removing the URLs\n",
      "    url_pattern = r'\\S*https?:\\S*'\n",
      "    data = re.sub(url_pattern,'',doc)\n",
      "\n",
      "    # removing the usernames:\n",
      "    username_pattern = r'@[^\\s]+'\n",
      "    data = re.sub(username_pattern,'',data)\n",
      "\n",
      "    # remove special characters \n",
      "    special_chars = r'[^\\w\\s]|_'\n",
      "    data = re.sub(special_chars, '', data)\n",
      "\n",
      "    # remving patterns in square brackets\n",
      "    sq_bracks_pat = r'\\[.*?\\]'\n",
      "    data = re.sub(sq_bracks_pat, '', data)\n",
      "\n",
      "    # removing unwanted html tags\n",
      "    html_pattern = r'<.*?>+'\n",
      "    data = re.sub(html_pattern, '', data)\n",
      "\n",
      "    return data\n",
      "# applying preprocessing to both the train and the test data text column\n",
      "train_df['cleaned_text']=train_df['text'].apply(lambda text:preprocess_text(text))\n",
      "test_df['cleaned_text']=test_df['text'].apply(lambda text:preprocess_text(text))\n",
      "train_df.head()\n",
      "# applying preprocessing to both the train and the test data aspect column\n",
      "train_df['cleaned_aspect']=train_df['aspect'].apply(lambda text:preprocess_text(text))\n",
      "test_df['cleaned_aspect']=test_df['aspect'].apply(lambda text:preprocess_text(text))\n",
      "train_df.head()\n",
      "test_df.head()\n",
      "train_df = train_df[['text', 'aspect', 'cleaned_text', 'cleaned_aspect', 'label']] # selecting only the relevant columns\n",
      "test_df = test_df[['text', 'aspect', 'cleaned_text', 'cleaned_aspect']]\n",
      "train_df.head()\n",
      "max(train_df['cleaned_text'].apply(lambda txt: len(txt)))\n",
      "max(test_df['cleaned_text'].apply(lambda txt : len(txt)))\n",
      "# maximum length of the text present in the given dataset\n",
      "max_len=max(max(train_df['cleaned_text'].apply(lambda txt : len(txt))), max(test_df['cleaned_text'].apply(lambda txt : len(txt))))\n",
      "max_len\n",
      "clean_train_path = 'C:\\\\Users\\\\mohsi\\\\OneDrive\\\\Desktop\\\\Aspect-Based-Sentiment-Extraction\\\\data\\\\clean_train.csv'\n",
      "clean_test_path = 'C:\\\\Users\\mohsi\\\\OneDrive\\Desktop\\\\Aspect-Based-Sentiment-Extraction\\\\data\\\\clean_test.csv'\n",
      "train_df = pd.read_csv(clean_train_path)\n",
      "#test_df = pd.read_csv(clean_test_path)\n",
      "import transformers as tr\n",
      "#model_class, tokenizer_class, pretrained_weights = (tr.DistilBertModel, tr.DistilBertTokenizer, 'distilbert-base-uncased')\n",
      "\n",
      "## For regular BERT:\n",
      "model_class, tokenizer_class, pretrained_weights = (tr.BertModel, tr.BertTokenizer, 'bert-base-cased')\n",
      "\n",
      "# Load pretrained model/tokenizer\n",
      "tokenizer = tokenizer_class.from_pretrained(pretrained_weights)\n",
      "#model = model_class.from_pretrained(pretrained_weights)\n",
      "tokens = tokenizer.encode(\"Hello, how are you?\", max_length=512, truncation=True)\n",
      "tokens\n",
      "# for distribution of the length of the tokens of train data text\n",
      "\n",
      "import logging\n",
      "logging.basicConfig(level=logging.ERROR) \n",
      "\n",
      "train_token_lens = []\n",
      "for txt in train_df.cleaned_text:\n",
      "    tokens = tokenizer.encode(txt, max_length = 512)\n",
      "    train_token_lens.append(len(tokens))\n",
      "sns.displot(train_token_lens, kind='kde')\n",
      "max(train_token_lens)\n",
      "# for distribution of the length of the tokens of test data text\n",
      "\n",
      "logging.basicConfig(level=logging.ERROR)\n",
      "\n",
      "test_token_lens = []\n",
      "for txt in test_df['cleaned_text']:\n",
      "    tokens = tokenizer.encode(txt, max_length = 512)\n",
      "    test_token_lens.append(len(tokens))\n",
      "sns.histplot(test_token_lens, kde=True)\n",
      "max(test_token_lens)\n",
      "# building up the custom dataset class for our datset\n",
      "class ABSA_Dataset(Dataset):\n",
      "    def __init__(self, texts, aspects, targets, tokenizer, max_len):\n",
      "        self.texts = texts\n",
      "        self.aspects = aspects\n",
      "        self.targets = targets\n",
      "        self.tokenizer = tokenizer\n",
      "        self.max_len = max_len\n",
      "\n",
      "\n",
      "    def __len__(self):\n",
      "        return len(self.texts)\n",
      "\n",
      "\n",
      "    def __getitem__(self, index):\n",
      "        text = str(self.texts[index])\n",
      "        aspect = str(self.aspects[index])\n",
      "        target = self.targets[index]\n",
      "        \n",
      "        encoding = self.tokenizer(\n",
      "          text,\n",
      "          aspect,\n",
      "          add_special_tokens = True,\n",
      "          max_length = self.max_len,\n",
      "          return_token_type_ids = False,\n",
      "          padding = 'max_length',\n",
      "          truncation = True,\n",
      "          return_attention_mask = True,\n",
      "          return_tensors = 'pt',\n",
      "        )\n",
      "\n",
      "        return {\n",
      "          'text': text,\n",
      "          'aspect': aspect,\n",
      "          'input_ids': encoding['input_ids'].flatten(),  # from torch.Size([1,max_len]) to torch.Size([max_len])\n",
      "          'attention_mask': encoding['attention_mask'].flatten(),\n",
      "          'targets': torch.tensor(target, dtype=torch.long)\n",
      "        }\n",
      "def regular_train_test_split(train_df):\n",
      "    \n",
      "    df_train, df_test = train_test_split(\n",
      "      train_df,\n",
      "      test_size=conf.TRAIN_VAL_SPLIT,\n",
      "      random_state=conf.RANDOM_SEED\n",
      "    )\n",
      "\n",
      "    df_val, df_test = train_test_split(\n",
      "      df_test,\n",
      "      test_size=conf.VAL_TEST_SPLIT,\n",
      "      random_state=conf.RANDOM_SEED\n",
      "    )\n",
      "    \n",
      "    return df_train, df_val, df_test\n",
      "def define_folds(df):\n",
      "    \n",
      "    df[\"kfold\"] = -1\n",
      "    df = df.sample(frac=1).reset_index(drop=True)\n",
      "    y = df.label.values\n",
      "    kf = model_selection.StratifiedKFold(n_splits=5)\n",
      "    \n",
      "    for f, (t_, v_) in enumerate(kf.split(X=df, y=y)):\n",
      "        df.loc[v_, 'kfold'] = f\n",
      "    \n",
      "    df.to_csv(f'{conf.data_path}/train_folds.csv', index=False)\n",
      "        \n",
      "    return df\n",
      "train_df = define_folds(train_df)\n",
      "train_df\n",
      "fold = 0\n",
      "df_train = train_df[train_df['kfold'] != fold]\n",
      "df_val = train_df[train_df['kfold'] == fold]\n",
      "# function for creating dataloaders for train and test datasets\n",
      "\n",
      "def create_dataloader(df, tokenizer, max_len, batch_size, shuffle=False):\n",
      "    \n",
      "    dataset = ABSA_Dataset(\n",
      "        texts = df.cleaned_text.to_numpy(),\n",
      "        aspects = df.cleaned_aspect.to_numpy(),\n",
      "        targets = df.label.to_numpy(),\n",
      "        tokenizer = tokenizer,\n",
      "        max_len = max_len\n",
      "      )\n",
      "\n",
      "    dataloader = DataLoader(dataset, batch_size = batch_size, num_workers = conf.num_workers, shuffle = shuffle)\n",
      "    return dataloader\n",
      "type(test_df['cleaned_text'].to_numpy())\n",
      "def return_tokenizer():\n",
      "    \n",
      "    if conf.bert_base_model:\n",
      "        if conf.case_based_model:\n",
      "            tokenizer = tr.BertTokenizer.from_pretrained('bert-base-cased')\n",
      "        else:\n",
      "             tokenizer = tr.BertTokenizer.from_pretrained('bert-base-uncased')\n",
      "    else:\n",
      "        if conf.case_based_model:\n",
      "            tokenizer = tr.DistilBertTokenizer.from_pretrained('distilbert-base-cased')\n",
      "        else:\n",
      "            tokenizer = tr.DistilBertTokenizer.from_pretrained('distilbert-base-uncased')\n",
      "        \n",
      "    return tokenizer\n",
      "tokenizer = return_tokenizer()\n",
      "# setting up the train and validation dataloaders\n",
      "train_dataloader = create_dataloader(df_train, tokenizer, conf.MAX_LEN, conf.BATCH_SIZE, conf.train_shuffle)\n",
      "val_dataloader = create_dataloader(df_val, tokenizer, conf.MAX_LEN, conf.BATCH_SIZE, conf.train_shuffle)\n",
      "#test_dataloader = create_dataloader(df_test, tokenizer, conf.MAX_LEN, conf.BATCH_SIZE, conf.valid_shuffle)\n",
      "data = next(iter(train_dataloader))\n",
      "data.keys()\n",
      "import pandas as pd\n",
      "\n",
      "# Reset all display options to default\n",
      "pd.reset_option('display.max_rows')\n",
      "pd.reset_option('display.max_columns')\n",
      "pd.reset_option('display.max_colwidth')\n",
      "# example batch from out training dataloader\n",
      "\n",
      "print(data['input_ids'].shape)\n",
      "print(data['attention_mask'].shape)\n",
      "print(data['targets'].shape)\n",
      "data['input_ids'][0]\n",
      "import transformers as tr\n",
      "\n",
      "class ABSA_Model(nn.Module):\n",
      "    \n",
      "    def __init__(self, dropout = 0.5):\n",
      "        super(ABSA_Model, self).__init__()\n",
      "\n",
      "        self.bert_model = tr.BertModel.from_pretrained('bert-base-cased') \n",
      "        #self.bert_model = tr.DistilBertModel.from_pretrained('distilbert-base-cased')\n",
      "        self.dropout = nn.Dropout(dropout)\n",
      "        self.fc1 = nn.Linear(768, 3)\n",
      "        #self.relu = nn.ReLU()\n",
      "        self.softmax = nn.LogSoftmax(dim=1)\n",
      "\n",
      "    def forward(self, input_ids, mask):\n",
      "\n",
      "        _, pooled_output = self.bert_model(input_ids = input_ids, attention_mask = mask, return_dict = False) # BertModel\n",
      "        # third argument in self.bert_model for avoiding this error: TypeError: dropout(): argument 'input' (position 1) must be Tensor, not str\n",
      "        # otherwise, do this:\n",
      "        #output_dict = self.bert_model(input_ids = input_ids, attention_mask = mask)\n",
      "        #last_hidden_state = output_dict['last_hidden_state']\n",
      "        #pooled_output = output_dict['pooler_output']\n",
      "        #print(outputs)\n",
      "        \n",
      "        #outputs = self.bert_model(input_ids = input_ids, attention_mask = mask) # DistilBertModel\n",
      "        # outputs is of shape (batch_size, max_seq_len, hidden_size), hidden_size here = 768\n",
      "        #pooled_output = outputs[0][:,0,:] # shape = (batch_size, 768), output corresponding to cls token for all batch_size\n",
      "                                          # number of texts\n",
      "\n",
      "        #print(pooled_output.shape)\n",
      "        x = self.dropout(pooled_output)\n",
      "        x = self.fc1(x)\n",
      "        #x = self.relu(x)\n",
      "        x = self.softmax(x)\n",
      "\n",
      "        return x\n",
      "device = torch.device(\"cuda\" if torch.cuda.is_available() else \"cpu\")\n",
      "#device = torch.device('cpu')\n",
      "device\n",
      "model = ABSA_Model()\n",
      "model = model.to(device)\n",
      "input_ids = data['input_ids'].to(device)\n",
      "attention_mask = data['attention_mask'].to(device)\n",
      "print(input_ids.shape) # batch size x seq length\n",
      "print(attention_mask.shape) # batch size x seq length\n",
      "x=model(input_ids, attention_mask)\n",
      "x\n",
      "optimizer = tr.AdamW(model.parameters(), lr=conf.learning_rate, correct_bias=False)\n",
      "total_steps = len(train_dataloader) * conf.EPOCHS\n",
      "\n",
      "scheduler = tr.get_linear_schedule_with_warmup(\n",
      "  optimizer,\n",
      "  num_warmup_steps=0,\n",
      "  num_training_steps=total_steps\n",
      ")\n",
      "\n",
      "loss_fn = nn.NLLLoss().to(device)\n",
      "def train_fn(model, data_loader, loss_fn, optimizer, device, scheduler, n_examples):\n",
      "    \n",
      "    model = model.train()\n",
      "    losses = []\n",
      "    correct_predictions = 0\n",
      "\n",
      "    for data in data_loader:\n",
      "\n",
      "        input_ids = data[\"input_ids\"].to(device)\n",
      "        attention_mask = data[\"attention_mask\"].to(device)\n",
      "        targets = data[\"targets\"].to(device)\n",
      "\n",
      "        outputs = model(input_ids, attention_mask)\n",
      "\n",
      "        _, preds = torch.max(outputs, dim=1)\n",
      "        loss = loss_fn(outputs, targets)\n",
      "\n",
      "        correct_predictions += torch.sum(preds == targets)\n",
      "\n",
      "        losses.append(loss.item())\n",
      "        loss.backward()\n",
      "\n",
      "        nn.utils.clip_grad_norm_(model.parameters(), max_norm=1.0)\n",
      "        optimizer.step()\n",
      "        scheduler.step()\n",
      "        optimizer.zero_grad()\n",
      "\n",
      "    return correct_predictions.double() / n_examples, np.mean(losses)\n",
      "def eval_fn(model, data_loader, loss_fn, device, n_examples):\n",
      "    \n",
      "    model = model.eval()\n",
      "    losses = []\n",
      "    correct_predictions = 0\n",
      "\n",
      "    with torch.no_grad():\n",
      "        for data in data_loader:\n",
      "            \n",
      "            input_ids = data[\"input_ids\"].to(device)\n",
      "            attention_mask = data[\"attention_mask\"].to(device)\n",
      "            targets = data[\"targets\"].to(device)\n",
      "\n",
      "            outputs = model(input_ids, attention_mask)\n",
      "\n",
      "            _, preds = torch.max(outputs, dim=1)\n",
      "            loss = loss_fn(outputs, targets)\n",
      "\n",
      "            correct_predictions += torch.sum(preds == targets)\n",
      "\n",
      "            losses.append(loss.item())\n",
      "\n",
      "    return correct_predictions.double() / n_examples, np.mean(losses)\n",
      "%%time\n",
      "\n",
      "def execute(model, train_dataloader, val_dataloader, loss_fn, optimizer, device, scheduler, train_df_len, val_df_len):\n",
      "    history = defaultdict(list)\n",
      "    best_accuracy = 0\n",
      "\n",
      "    for epoch in range(conf.EPOCHS):\n",
      "\n",
      "        print(f'Epoch {epoch + 1}/{conf.EPOCHS}')\n",
      "        print('-' * 10)\n",
      "\n",
      "        train_acc, train_loss = train_fn(model, train_dataloader, loss_fn, optimizer, device, scheduler, train_df_len)\n",
      "\n",
      "        print(f'Train loss: {train_loss}, Train Accuracy: {train_acc*100}')\n",
      "\n",
      "        val_acc, val_loss = eval_fn(model, val_dataloader, loss_fn, device, val_df_len)\n",
      "\n",
      "        print(f'Validation loss: {val_loss}, Validation Accuracy: {val_acc*100}')\n",
      "        print()\n",
      "\n",
      "        history['train_acc'].append(train_acc)\n",
      "        history['train_loss'].append(train_loss)\n",
      "        history['val_acc'].append(val_acc)\n",
      "        history['val_loss'].append(val_loss)\n",
      "\n",
      "        if val_acc > best_accuracy:\n",
      "            torch.save(model.state_dict(), f'{conf.model_save_path}/best_model_state.bin')\n",
      "            best_accuracy = val_acc\n",
      "        \n",
      "    print('Execution Complete')\n",
      "    print('-' * 10)\n",
      "\n",
      "    return history\n",
      "tr.logging.set_verbosity_error()\n",
      "torch.cuda.empty_cache()\n",
      "# history = execute(model, train_dataloader, val_dataloader, loss_fn, optimizer, device, scheduler, len(df_train), len(df_val))\n",
      "history\n"
     ]
    }
   ],
   "source": [
    "history"
   ]
  },
  {
   "cell_type": "code",
   "execution_count": 96,
   "metadata": {},
   "outputs": [
    {
     "ename": "NameError",
     "evalue": "name 'history' is not defined",
     "output_type": "error",
     "traceback": [
      "\u001b[1;31m---------------------------------------------------------------------------\u001b[0m",
      "\u001b[1;31mNameError\u001b[0m                                 Traceback (most recent call last)",
      "Cell \u001b[1;32mIn[96], line 3\u001b[0m\n\u001b[0;32m      1\u001b[0m train_acc \u001b[38;5;241m=\u001b[39m []\n\u001b[0;32m      2\u001b[0m val_acc \u001b[38;5;241m=\u001b[39m []\n\u001b[1;32m----> 3\u001b[0m \u001b[38;5;28;01mfor\u001b[39;00m acc \u001b[38;5;129;01min\u001b[39;00m \u001b[43mhistory\u001b[49m[\u001b[38;5;124m'\u001b[39m\u001b[38;5;124mtrain_acc\u001b[39m\u001b[38;5;124m'\u001b[39m]:\n\u001b[0;32m      4\u001b[0m     train_acc\u001b[38;5;241m.\u001b[39mappend(acc\u001b[38;5;241m.\u001b[39mcpu()\u001b[38;5;241m.\u001b[39mnumpy())\n\u001b[0;32m      6\u001b[0m \u001b[38;5;28;01mfor\u001b[39;00m acc \u001b[38;5;129;01min\u001b[39;00m history[\u001b[38;5;124m'\u001b[39m\u001b[38;5;124mval_acc\u001b[39m\u001b[38;5;124m'\u001b[39m]:\n",
      "\u001b[1;31mNameError\u001b[0m: name 'history' is not defined"
     ]
    }
   ],
   "source": [
    "train_acc = []\n",
    "val_acc = []\n",
    "for acc in history['train_acc']:\n",
    "    train_acc.append(acc.cpu().numpy())\n",
    "\n",
    "for acc in history['val_acc']:\n",
    "    val_acc.append(acc.cpu().numpy())"
   ]
  },
  {
   "cell_type": "code",
   "execution_count": null,
   "metadata": {
    "scrolled": true
   },
   "outputs": [
    {
     "data": {
      "image/png": "[encoded data removed]",
      "text/plain": [
       "<Figure size 640x480 with 1 Axes>"
      ]
     },
     "metadata": {},
     "output_type": "display_data"
    }
   ],
   "source": [
    "sns.set_theme(style=\"white\", palette=None)\n",
    "plt.plot(train_acc, label='train accuracy')\n",
    "plt.plot(val_acc, label='validation accuracy')\n",
    "plt.title('Training history')\n",
    "plt.ylabel('Accuracy')\n",
    "plt.xlabel('Epoch')\n",
    "plt.legend()\n",
    "plt.ylim([0, 1]);"
   ]
  },
  {
   "cell_type": "code",
   "execution_count": null,
   "metadata": {},
   "outputs": [
    {
     "data": {
      "image/png": "[encoded data removed]",
      "text/plain": [
       "<Figure size 640x480 with 1 Axes>"
      ]
     },
     "metadata": {},
     "output_type": "display_data"
    }
   ],
   "source": [
    "sns.set_theme(style=\"white\", palette=None)\n",
    "plt.plot(history['train_loss'], label='train loss')\n",
    "plt.plot(history['val_loss'], label='validation loss')\n",
    "plt.title('Training history')\n",
    "plt.ylabel('loss')\n",
    "plt.xlabel('Epoch')\n",
    "plt.legend()\n",
    "plt.ylim([0, 1]);"
   ]
  },
  {
   "cell_type": "code",
   "execution_count": null,
   "metadata": {
    "id": "QXX1NSbu03VJ"
   },
   "outputs": [
    {
     "ename": "RuntimeError",
     "evalue": "Error(s) in loading state_dict for ABSA_Model:\n\tUnexpected key(s) in state_dict: \"bert_model.embeddings.position_ids\". ",
     "output_type": "error",
     "traceback": [
      "\u001b[1;31m---------------------------------------------------------------------------\u001b[0m",
      "\u001b[1;31mRuntimeError\u001b[0m                              Traceback (most recent call last)",
      "Cell \u001b[1;32mIn[142], line 2\u001b[0m\n\u001b[0;32m      1\u001b[0m model \u001b[38;5;241m=\u001b[39m ABSA_Model()\n\u001b[1;32m----> 2\u001b[0m \u001b[43mmodel\u001b[49m\u001b[38;5;241;43m.\u001b[39;49m\u001b[43mload_state_dict\u001b[49m\u001b[43m(\u001b[49m\u001b[43mtorch\u001b[49m\u001b[38;5;241;43m.\u001b[39;49m\u001b[43mload\u001b[49m\u001b[43m(\u001b[49m\u001b[38;5;124;43mf\u001b[39;49m\u001b[38;5;124;43m'\u001b[39;49m\u001b[38;5;132;43;01m{\u001b[39;49;00m\u001b[43mconf\u001b[49m\u001b[38;5;241;43m.\u001b[39;49m\u001b[43mmodel_save_path\u001b[49m\u001b[38;5;132;43;01m}\u001b[39;49;00m\u001b[38;5;124;43m/best_model_state.bin\u001b[39;49m\u001b[38;5;124;43m'\u001b[39;49m\u001b[43m)\u001b[49m\u001b[43m)\u001b[49m\n\u001b[0;32m      3\u001b[0m model \u001b[38;5;241m=\u001b[39m model\u001b[38;5;241m.\u001b[39mto(device)\n",
      "File \u001b[1;32mc:\\Users\\mohsi\\OneDrive\\Desktop\\Aspect-Based-Sentiment-Extraction\\absa\\lib\\site-packages\\torch\\nn\\modules\\module.py:2189\u001b[0m, in \u001b[0;36mModule.load_state_dict\u001b[1;34m(self, state_dict, strict, assign)\u001b[0m\n\u001b[0;32m   2184\u001b[0m         error_msgs\u001b[38;5;241m.\u001b[39minsert(\n\u001b[0;32m   2185\u001b[0m             \u001b[38;5;241m0\u001b[39m, \u001b[38;5;124m'\u001b[39m\u001b[38;5;124mMissing key(s) in state_dict: \u001b[39m\u001b[38;5;132;01m{}\u001b[39;00m\u001b[38;5;124m. \u001b[39m\u001b[38;5;124m'\u001b[39m\u001b[38;5;241m.\u001b[39mformat(\n\u001b[0;32m   2186\u001b[0m                 \u001b[38;5;124m'\u001b[39m\u001b[38;5;124m, \u001b[39m\u001b[38;5;124m'\u001b[39m\u001b[38;5;241m.\u001b[39mjoin(\u001b[38;5;124mf\u001b[39m\u001b[38;5;124m'\u001b[39m\u001b[38;5;124m\"\u001b[39m\u001b[38;5;132;01m{\u001b[39;00mk\u001b[38;5;132;01m}\u001b[39;00m\u001b[38;5;124m\"\u001b[39m\u001b[38;5;124m'\u001b[39m \u001b[38;5;28;01mfor\u001b[39;00m k \u001b[38;5;129;01min\u001b[39;00m missing_keys)))\n\u001b[0;32m   2188\u001b[0m \u001b[38;5;28;01mif\u001b[39;00m \u001b[38;5;28mlen\u001b[39m(error_msgs) \u001b[38;5;241m>\u001b[39m \u001b[38;5;241m0\u001b[39m:\n\u001b[1;32m-> 2189\u001b[0m     \u001b[38;5;28;01mraise\u001b[39;00m \u001b[38;5;167;01mRuntimeError\u001b[39;00m(\u001b[38;5;124m'\u001b[39m\u001b[38;5;124mError(s) in loading state_dict for \u001b[39m\u001b[38;5;132;01m{}\u001b[39;00m\u001b[38;5;124m:\u001b[39m\u001b[38;5;130;01m\\n\u001b[39;00m\u001b[38;5;130;01m\\t\u001b[39;00m\u001b[38;5;132;01m{}\u001b[39;00m\u001b[38;5;124m'\u001b[39m\u001b[38;5;241m.\u001b[39mformat(\n\u001b[0;32m   2190\u001b[0m                        \u001b[38;5;28mself\u001b[39m\u001b[38;5;241m.\u001b[39m\u001b[38;5;18m__class__\u001b[39m\u001b[38;5;241m.\u001b[39m\u001b[38;5;18m__name__\u001b[39m, \u001b[38;5;124m\"\u001b[39m\u001b[38;5;130;01m\\n\u001b[39;00m\u001b[38;5;130;01m\\t\u001b[39;00m\u001b[38;5;124m\"\u001b[39m\u001b[38;5;241m.\u001b[39mjoin(error_msgs)))\n\u001b[0;32m   2191\u001b[0m \u001b[38;5;28;01mreturn\u001b[39;00m _IncompatibleKeys(missing_keys, unexpected_keys)\n",
      "\u001b[1;31mRuntimeError\u001b[0m: Error(s) in loading state_dict for ABSA_Model:\n\tUnexpected key(s) in state_dict: \"bert_model.embeddings.position_ids\". "
     ]
    }
   ],
   "source": [
    "model = ABSA_Model()\n",
    "model.load_state_dict(torch.load(f'{conf.model_save_path}/best_model_state.bin'))\n",
    "model = model.to(device)"
   ]
  },
  {
   "cell_type": "code",
   "execution_count": null,
   "metadata": {
    "id": "4DuxhsAQ1CnW"
   },
   "outputs": [
    {
     "name": "stdout",
     "output_type": "stream",
     "text": [
      "0.7425\n"
     ]
    }
   ],
   "source": [
    "# accuracy on the test set \n",
    "test_acc, _ = eval_fn(model, val_dataloader, loss_fn, device, len(df_val))\n",
    "print(test_acc.item())"
   ]
  },
  {
   "cell_type": "code",
   "execution_count": null,
   "metadata": {},
   "outputs": [],
   "source": [
    "class_names = ['Negative', 'Neutral', 'Positive']"
   ]
  },
  {
   "cell_type": "code",
   "execution_count": null,
   "metadata": {
    "id": "XA-KLKXo1XTv"
   },
   "outputs": [],
   "source": [
    "def get_predictions(model, data_loader):\n",
    "    \n",
    "    model = model.eval()\n",
    "\n",
    "    texts = []\n",
    "    aspects = []\n",
    "    predictions = []\n",
    "    prediction_probs = []\n",
    "    real_values = []\n",
    "\n",
    "    with torch.no_grad():\n",
    "        for data in data_loader:\n",
    "\n",
    "            texts_ = data[\"text\"]\n",
    "            aspects_ = data[\"aspect\"]\n",
    "            input_ids = data[\"input_ids\"].to(device)\n",
    "            attention_mask = data[\"attention_mask\"].to(device)\n",
    "            targets = data[\"targets\"].to(device)\n",
    "\n",
    "            outputs = model(input_ids, attention_mask)\n",
    "            _, preds = torch.max(outputs, dim=1)\n",
    "\n",
    "            texts.extend(texts_)\n",
    "            aspects.extend(aspects_)\n",
    "            predictions.extend(preds)\n",
    "            prediction_probs.extend(outputs)\n",
    "            real_values.extend(targets)\n",
    "\n",
    "    predictions = torch.stack(predictions).cpu()\n",
    "    prediction_probs = torch.stack(prediction_probs).cpu()\n",
    "    real_values = torch.stack(real_values).cpu()\n",
    "\n",
    "    return texts, aspects, predictions, prediction_probs, real_values"
   ]
  },
  {
   "cell_type": "code",
   "execution_count": null,
   "metadata": {
    "id": "FnuRdKgm18EG"
   },
   "outputs": [],
   "source": [
    "y_texts, y_aspects, y_pred, y_pred_probs, y_test = get_predictions(model, val_dataloader)"
   ]
  },
  {
   "cell_type": "code",
   "execution_count": null,
   "metadata": {
    "id": "7riB3Y532r-7"
   },
   "outputs": [
    {
     "name": "stdout",
     "output_type": "stream",
     "text": [
      "              precision    recall  f1-score   support\n",
      "\n",
      "    Negative       0.74      0.82      0.78       336\n",
      "     Neutral       0.72      0.72      0.72       259\n",
      "    Positive       0.80      0.64      0.71       205\n",
      "\n",
      "    accuracy                           0.74       800\n",
      "   macro avg       0.75      0.73      0.73       800\n",
      "weighted avg       0.75      0.74      0.74       800\n",
      "\n"
     ]
    }
   ],
   "source": [
    "# this is the accuracy given by model trained on GTX 1650 4GB.\n",
    "# The best accuracy model is present in C./models/best_model_state.bin with ~96% acc.\n",
    "\n",
    "print(classification_report(y_test, y_pred, target_names=class_names))"
   ]
  },
  {
   "cell_type": "code",
   "execution_count": null,
   "metadata": {
    "id": "GkHeia7S2sro",
    "scrolled": true
   },
   "outputs": [
    {
     "data": {
      "image/png": "[encoded data removed]",
      "text/plain": [
       "<Figure size 640x480 with 2 Axes>"
      ]
     },
     "metadata": {},
     "output_type": "display_data"
    }
   ],
   "source": [
    "def show_confusion_matrix(confusion_matrix):\n",
    "    \n",
    "    hmap = sns.heatmap(confusion_matrix, annot=True, fmt=\"d\", cmap=sns.cubehelix_palette(as_cmap=True))\n",
    "    hmap.yaxis.set_ticklabels(hmap.yaxis.get_ticklabels(), rotation=0, ha='right')\n",
    "    hmap.xaxis.set_ticklabels(hmap.xaxis.get_ticklabels(), rotation=30, ha='right')\n",
    "    plt.ylabel('True sentiment')\n",
    "    plt.xlabel('Predicted sentiment')\n",
    "    \n",
    "cm = confusion_matrix(y_test, y_pred)\n",
    "df_cm = pd.DataFrame(cm, index=class_names, columns=class_names)\n",
    "show_confusion_matrix(df_cm)"
   ]
  },
  {
   "cell_type": "code",
   "execution_count": null,
   "metadata": {
    "id": "uQQegbVD2sug"
   },
   "outputs": [
    {
     "name": "stdout",
     "output_type": "stream",
     "text": [
      "app on the ios terribly slow crashes multiple times does not support\n",
      "apple pencil\n",
      "App\n",
      "\n",
      "True sentiment: Positive\n"
     ]
    }
   ],
   "source": [
    "idx = 4\n",
    "\n",
    "text = y_texts[idx]\n",
    "aspect = y_aspects[idx]\n",
    "true_sentiment = y_test[idx]\n",
    "pred_df = pd.DataFrame({\n",
    "  'class_names': class_names,\n",
    "  'values': y_pred_probs[idx]\n",
    "})\n",
    "\n",
    "print(\"\\n\".join(wrap(text)))\n",
    "print(\"\\n\".join(wrap(aspect)))\n",
    "print()\n",
    "print(f'True sentiment: {class_names[true_sentiment]}')"
   ]
  },
  {
   "cell_type": "markdown",
   "metadata": {
    "id": "CJBHMNSQ3Jfo"
   },
   "source": [
    "#### Predicting on raw text"
   ]
  },
  {
   "cell_type": "code",
   "execution_count": null,
   "metadata": {
    "id": "wwqIHiV52sz1"
   },
   "outputs": [],
   "source": [
    "text = \"cannot rely on both milk delivery and grocery items\"\n",
    "aspect = \"Milk\""
   ]
  },
  {
   "cell_type": "code",
   "execution_count": null,
   "metadata": {
    "id": "X-X2iqxf2s2L"
   },
   "outputs": [],
   "source": [
    "encoded_text = tokenizer(\n",
    "      text,\n",
    "      aspect,\n",
    "      add_special_tokens = True,\n",
    "      max_length = conf.MAX_LEN,\n",
    "      return_token_type_ids = False,\n",
    "      padding = 'max_length',\n",
    "      truncation = True,\n",
    "      return_attention_mask = True,\n",
    "      return_tensors = 'pt',\n",
    "    )"
   ]
  },
  {
   "cell_type": "code",
   "execution_count": null,
   "metadata": {
    "id": "h2TVBbL02s46"
   },
   "outputs": [],
   "source": [
    "input_ids = encoded_text['input_ids'].to(device)\n",
    "attention_mask = encoded_text['attention_mask'].to(device)\n",
    "\n",
    "output = model(input_ids, attention_mask)\n",
    "_, prediction = torch.max(output, dim=1)"
   ]
  },
  {
   "cell_type": "code",
   "execution_count": null,
   "metadata": {
    "id": "KAVc4ZQG2s7s"
   },
   "outputs": [
    {
     "name": "stdout",
     "output_type": "stream",
     "text": [
      "text: cannot rely on both milk delivery and grocery items\n",
      "aspect: Milk\n",
      "Sentiment  : Negative\n"
     ]
    }
   ],
   "source": [
    "print(f'text: {text}')\n",
    "print(f'aspect: {aspect}')\n",
    "print(f'Sentiment  : {class_names[prediction]}')"
   ]
  },
  {
   "cell_type": "markdown",
   "metadata": {},
   "source": [
    "#### Saving the accuracies and losses"
   ]
  },
  {
   "cell_type": "code",
   "execution_count": null,
   "metadata": {},
   "outputs": [],
   "source": [
    "import pickle"
   ]
  },
  {
   "cell_type": "code",
   "execution_count": null,
   "metadata": {},
   "outputs": [
    {
     "data": {
      "text/plain": [
       "'c:\\\\Users\\\\mohsi\\\\OneDrive\\\\Desktop\\\\Aspect-Based-Sentiment-Extraction/data/results'"
      ]
     },
     "execution_count": 130,
     "metadata": {},
     "output_type": "execute_result"
    }
   ],
   "source": [
    "conf.results_save_path"
   ]
  },
  {
   "cell_type": "code",
   "execution_count": null,
   "metadata": {},
   "outputs": [],
   "source": [
    "with open(f\"{conf.results_save_path}/train_acc.txt\", \"wb\") as fp:  \n",
    "    pickle.dump(train_acc, fp)"
   ]
  },
  {
   "cell_type": "code",
   "execution_count": null,
   "metadata": {},
   "outputs": [],
   "source": [
    "with open(f\"{conf.results_save_path}/val_acc.txt\", \"wb\") as fp:  \n",
    "    pickle.dump(val_acc, fp)"
   ]
  },
  {
   "cell_type": "code",
   "execution_count": null,
   "metadata": {},
   "outputs": [],
   "source": [
    "with open(f\"{conf.results_save_path}/train_loss.txt\", \"wb\") as fp:   \n",
    "    pickle.dump(history['train_loss'], fp)"
   ]
  },
  {
   "cell_type": "code",
   "execution_count": null,
   "metadata": {},
   "outputs": [],
   "source": [
    "with open(f\"{conf.results_save_path}/val_loss.txt\", \"wb\") as fp:   \n",
    "    pickle.dump(history['val_loss'], fp)"
   ]
  },
  {
   "cell_type": "markdown",
   "metadata": {},
   "source": [
    "### Evaluation on the provided test file"
   ]
  },
  {
   "cell_type": "code",
   "execution_count": null,
   "metadata": {},
   "outputs": [
    {
     "data": {
      "text/plain": [
       "device(type='cuda')"
      ]
     },
     "execution_count": 134,
     "metadata": {},
     "output_type": "execute_result"
    }
   ],
   "source": [
    "device = conf.device\n",
    "device\n",
    "#device = torch.device('cpu')"
   ]
  },
  {
   "cell_type": "code",
   "execution_count": null,
   "metadata": {},
   "outputs": [
    {
     "data": {
      "text/plain": [
       "'c:\\\\Users\\\\mohsi\\\\OneDrive\\\\Desktop\\\\Aspect-Based-Sentiment-Extraction/models'"
      ]
     },
     "execution_count": 135,
     "metadata": {},
     "output_type": "execute_result"
    }
   ],
   "source": [
    "conf.model_save_path"
   ]
  },
  {
   "cell_type": "code",
   "execution_count": null,
   "metadata": {},
   "outputs": [],
   "source": [
    "model = ABSA_Model()\n",
    "model.load_state_dict(torch.load(f'{conf.model_save_path}/best_model_state.bin'))\n",
    "model = model.to(device)"
   ]
  },
  {
   "cell_type": "code",
   "execution_count": null,
   "metadata": {},
   "outputs": [],
   "source": [
    "class_names = ['Negative', 'Neutral', 'Positive']"
   ]
  },
  {
   "cell_type": "code",
   "execution_count": null,
   "metadata": {},
   "outputs": [],
   "source": []
  },
  {
   "cell_type": "code",
   "execution_count": null,
   "metadata": {},
   "outputs": [],
   "source": []
  },
  {
   "cell_type": "code",
   "execution_count": null,
   "metadata": {},
   "outputs": [],
   "source": []
  },
  {
   "cell_type": "code",
   "execution_count": null,
   "metadata": {},
   "outputs": [],
   "source": []
  }
 ],
 "metadata": {
  "accelerator": "GPU",
  "colab": {
   "collapsed_sections": [],
   "name": "absa_exploration.ipynb",
   "provenance": []
  },
  "kernelspec": {
   "display_name": "Python 3 (ipykernel)",
   "language": "python",
   "name": "python3"
  },
  "language_info": {
   "codemirror_mode": {
    "name": "ipython",
    "version": 3
   },
   "file_extension": ".py",
   "mimetype": "text/x-python",
   "name": "python",
   "nbconvert_exporter": "python",
   "pygments_lexer": "ipython3",
   "version": "3.10.9"
  }
 },
 "nbformat": 4,
 "nbformat_minor": 1
}
